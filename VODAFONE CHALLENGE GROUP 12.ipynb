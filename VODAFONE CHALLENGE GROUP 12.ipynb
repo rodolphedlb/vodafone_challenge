{
 "cells": [
  {
   "cell_type": "markdown",
   "metadata": {},
   "source": [
    "# VODAFONE CHALLENGE ~ Group 12\n",
    "### Camilla Cestaro, Gian Marco Sorarù,  Luca Mingardi, Muhammad Talha Bin Ijaz, Rodolphe Royer de la Bastie\n",
    "\n",
    "\n"
   ]
  },
  {
   "cell_type": "markdown",
   "metadata": {},
   "source": [
    "    "
   ]
  },
  {
   "cell_type": "markdown",
   "metadata": {},
   "source": [
    "      "
   ]
  },
  {
   "cell_type": "markdown",
   "metadata": {},
   "source": [
    "# READ ME"
   ]
  },
  {
   "cell_type": "markdown",
   "metadata": {},
   "source": [
    "Make sure to follow all of the below commands before running the code:\n",
    "- Be sure to keep the files all in the same folder.\n",
    "- If an error arises during the Visualizations, make sure to have installed statsmodels through the command \"pip install statsmodels\" .\n",
    "- Install Tensorflow through the command line using \"pip install tensorflow\".\n"
   ]
  },
  {
   "cell_type": "markdown",
   "metadata": {},
   "source": [
    "# APPROACH TO CHALLENGE "
   ]
  },
  {
   "cell_type": "markdown",
   "metadata": {},
   "source": [
    "Welcome to our Vodafone project. \n",
    "\n",
    "Our group of 5 BEMACS students have worked with determination to give our best solution to this data science problem. \n",
    "\n",
    "The journey was filled with long coding sessions, neverending group meetings and many very creative ways to approach this problem.\n",
    "\n",
    "We are proud to see where this project has lead us and are convinced you will appreciate the effort put into this presentation.\n",
    "\n",
    "We hope going through this notebook will be a clear and smooth experience.\n",
    "\n",
    "Enjoy the journey."
   ]
  },
  {
   "cell_type": "markdown",
   "metadata": {},
   "source": [
    "# PIPELINE"
   ]
  },
  {
   "cell_type": "markdown",
   "metadata": {},
   "source": [
    "### 1 Data Cleaning \n",
    "### 2 Data Visualization\n",
    "### 3 Machine Learning \n",
    "### 4 Conclusions"
   ]
  },
  {
   "cell_type": "markdown",
   "metadata": {},
   "source": [
    "# 1. DATA CLEANING & PREPARATION"
   ]
  },
  {
   "cell_type": "markdown",
   "metadata": {},
   "source": [
    "For the data cleaning we started off with the original raw data set provided by Vodafone. We worked step by step focusing on the main issues we thought were most important to achieve a clean and complete dataframe.\n",
    "Below we added descriptions to every function for the cleaning.\n",
    "At the end we have added a \"__main__\" function which implements all the cleaning."
   ]
  },
  {
   "cell_type": "markdown",
   "metadata": {},
   "source": [
    "### Imports "
   ]
  },
  {
   "cell_type": "code",
   "execution_count": 173,
   "metadata": {},
   "outputs": [],
   "source": [
    "import pandas as pd\n",
    "import numpy as np\n",
    "import random as rnd\n",
    "import random\n",
    "from collections import Counter\n",
    "\n",
    "# Data visualization\n",
    "import pylab as pl\n",
    "import seaborn as sns\n",
    "import matplotlib.pyplot as plt\n",
    "%matplotlib inline\n",
    "\n",
    "# Machine Learning\n",
    "import sklearn.preprocessing as preprocessing\n",
    "from sklearn.decomposition import PCA\n",
    "from sklearn.neighbors import KNeighborsClassifier, NearestNeighbors\n",
    "from sklearn.cluster import KMeans\n",
    "from sklearn.linear_model import LogisticRegression, Perceptron\n",
    "from sklearn.tree import DecisionTreeClassifier\n",
    "import tensorflow as tf\n"
   ]
  },
  {
   "cell_type": "markdown",
   "metadata": {},
   "source": [
    "In the next cell we define an element called \"total\", which contains all the columns from the dataset we were given, excluding the first one from the dataset (which simply enumerated the users)."
   ]
  },
  {
   "cell_type": "code",
   "execution_count": 174,
   "metadata": {},
   "outputs": [],
   "source": [
    "total = ['Product', 'CustomerAge', 'DataAllowance', 'DataArpu', \n",
    "            'DeviceFlag4G', 'DeviceFlagSmartphone', 'MonthlyDataTraffic','MonthlyVoiceTrafficCount',\n",
    "            'CustomerGender', 'CustomerImmigrant','DevicePrice', 'MonthlySmsTrafficCount', 'ZipCode',\n",
    "            'DeviceOperatingSystem', 'File-Transfer', 'Games','Instant-Messaging-Applications', \n",
    "            'Mail', 'Music-Streaming','Network-Operation', 'P2P-Applications', 'Security', \n",
    "            'Streaming-Applications','Terminals', 'Unclassified', 'VoIP', 'Web-Applications']"
   ]
  },
  {
   "cell_type": "markdown",
   "metadata": {},
   "source": [
    "__\"get_Y\"__ defines a Y variable that is  based on the product purchased by the user. \n",
    "This function returns Y, in the form of a one hot representation:  it returns 1 in the position specified by the function, and 0 in all other positions.\n",
    "\n",
    "For example, if user 1 bought a V-Bag, then his list would be [0,1,0,0], and so on for every user."
   ]
  },
  {
   "cell_type": "code",
   "execution_count": 175,
   "metadata": {},
   "outputs": [],
   "source": [
    "def get_Y(df):\n",
    "    y = df[\"Product\"]  # {'V-Camera'(0), 'V-Bag'(1), 'V-Auto'(2),'V-Pet'(3)}\n",
    "    def f(x):\n",
    "        if(x == \"V-Camera\"): return 0\n",
    "        if(x == \"V-Bag\"): return 1\n",
    "        if(x == \"V-Auto\"): return 2\n",
    "        if(x == \"V-Pet\"): return 3\n",
    "    y = y.apply(f).as_matrix()\n",
    "    Y = np.zeros((y.shape[0],4))\n",
    "    Y[np.arange(y.shape[0]), y] = 1\n",
    "    \n",
    "    y=np.argmax(Y, axis=1)\n",
    "    df[\"Product\"] = y\n",
    "    \n",
    "    return Y, df"
   ]
  },
  {
   "cell_type": "markdown",
   "metadata": {},
   "source": [
    "__\"fix_CustomerAge\"__ deals with CustomerAge column. Noticing that by construction the  CustomerAge column was provided in the form of intervals, we decided to take the average of the two extremes given. \n",
    "\n",
    "Because the maximum value for age in the dataset is 85, we decided to rescale the values between 0 and 1, with 1 corresponding to the maximum age and 0 to the minimum age. \n",
    "\n",
    "Finally, we replaced the new rescaled values in the CustomerAge column. \n",
    "\n",
    "Notice that we have not dealt with the issue of missing values (NaN) in this part."
   ]
  },
  {
   "cell_type": "code",
   "execution_count": 176,
   "metadata": {},
   "outputs": [],
   "source": [
    "def fix_CustomerAge(df):\n",
    "    def f(x):\n",
    "        x=str(x)\n",
    "        if(\"nan\" not in x):\n",
    "            x = x[1:-1].split(\", \")\n",
    "            age = (int(x[0])+int(x[1]))/170\n",
    "            return age\n",
    "    df['CustomerAge'] = df['CustomerAge'].apply(f)\n",
    "    \n",
    "    return df"
   ]
  },
  {
   "cell_type": "markdown",
   "metadata": {},
   "source": [
    "__\"fix_DeviceOperatingSystem\"__ deals with the Device Operating System column. We first created 3 new categories: Android, iOS, and Other. We thought that the number of other operating systems was not significant, hence we grouped them together as a single category: Other. \n",
    "\n",
    "We then created a One Hot Vector which assigns each user to one of the 3 categories.\n",
    "\n",
    "To fill in the missing values, we assigned at random one category, based on how the data was distributed. We uniformly generated a random number between 0 and 1, and divided the range into the 3 possile outcomes, android having the highest probability and the other OS's having least."
   ]
  },
  {
   "cell_type": "code",
   "execution_count": 177,
   "metadata": {},
   "outputs": [],
   "source": [
    "def fix_DeviceOperatingSystem(df):\n",
    "    df['Android'] = np.zeros((df.shape[0],1)).flatten()\n",
    "    df['iOS'] = np.zeros((df.shape[0],1)).flatten()\n",
    "    df['Other OS'] = np.zeros((df.shape[0],1)).flatten()\n",
    "\n",
    "    def f(x):\n",
    "        os = str(x['DeviceOperatingSystem'])\n",
    "        if (\"nan\" not in os):\n",
    "            if(os=='Android'): x['Android'] = 1.0\n",
    "            elif (os == 'iOS'): x['iOS'] = 1.0\n",
    "            else : x[\"Other OS\"] = 1.0\n",
    "        else:\n",
    "            i = random.random()\n",
    "            if(i<0.5895): x['Android'] = 1.0\n",
    "            elif(i<0.9827): x['iOS'] = 1.0\n",
    "            else: x[\"Other OS\"] = 1.0\n",
    "        \n",
    "        return x\n",
    "    \n",
    "    df = df.apply(f, axis=1)\n",
    "    df = df.drop([\"DeviceOperatingSystem\"], axis=1)\n",
    "    \n",
    "    return df"
   ]
  },
  {
   "cell_type": "markdown",
   "metadata": {},
   "source": [
    "__\"Make_density\"__ creates 3 new columns corresponding to a 3 dimensional One Hot Vector.\n",
    "\n",
    "We webscraped the population densities of every zipcode in italy and stored them in a dictionary. \n",
    "\n",
    "We defined 3 categories: \"Rural\", \"SemiUrban\", \"Urban\". We grouped the zipcodes based on how densely populated the area is.\n",
    "\n",
    "A population density of below 300 inhabitants per square km corresponds to the \"Rural\" Category. <br>\n",
    "A population density of below 300 and 1900 inhabitants per square km corresponds to the \"SemiUrban\" Category. <br>\n",
    "A population density of above 1900 inhabitants per square km corresponds to the \"Urban\" Category."
   ]
  },
  {
   "cell_type": "code",
   "execution_count": 178,
   "metadata": {},
   "outputs": [],
   "source": [
    "def make_density(df):\n",
    "    density = np.load(\"density.npy\").item()\n",
    "    zipcode_density = np.load(\"zipcode_density.npy\").item()\n",
    "\n",
    "    df['Urban'] = np.zeros((df.shape[0], 1)).flatten()\n",
    "    df['SemiUrban'] = np.zeros((df.shape[0], 1)).flatten()\n",
    "    df['Rural'] = np.zeros((df.shape[0], 1)).flatten()\n",
    "\n",
    "    def f(x):\n",
    "        try: x[\"Density\"]  = zipcode_density[x[\"ZipCode\"]]\n",
    "        except: x[\"Density\"] = density[x[\"Province\"]]\n",
    "        if(x[\"Density\"]<=300):    x['Rural'] = 1.0\n",
    "        elif(x[\"Density\"]<=1900): x['SemiUrban'] = 1.0\n",
    "        else:                     x['Urban'] = 1.0\n",
    "        \n",
    "        return x\n",
    "    \n",
    "    df = df.apply(f, axis=1)\n",
    "    \n",
    "    return df"
   ]
  },
  {
   "cell_type": "markdown",
   "metadata": {},
   "source": [
    "__\"make_gdp\"__ Based on the region of each user we found  the local gdp per capita.\n",
    "\n",
    "We scaled it from 0 to 1, 1 being the richest and 0 being the poorest.\n",
    "\n",
    "We created a new column that we add to the data set, containing the gdp per capita."
   ]
  },
  {
   "cell_type": "code",
   "execution_count": 179,
   "metadata": {},
   "outputs": [],
   "source": [
    "def make_gdp(df):\n",
    "    gdp = np.load(\"gdp_s.npy\").item()\n",
    "    def f(x):\n",
    "        if(str(x[\"Region\"])==\"nan\"): return x\n",
    "        x[\"Gdp\"] = gdp[x[\"Region\"]]\n",
    "        return x\n",
    "    df = df.apply(f, axis=1)\n",
    "    \n",
    "    return df"
   ]
  },
  {
   "cell_type": "markdown",
   "metadata": {},
   "source": [
    "__\"make_location\"__ Divides the country into 5 main regions: NorthEast, NorthWest, Center, South and Island. The function creates 5 new columns corresponding to a 5 dimensional One Hot Vector. Each user is then assigned to one of the 5 regions."
   ]
  },
  {
   "cell_type": "code",
   "execution_count": 180,
   "metadata": {},
   "outputs": [],
   "source": [
    "def make_location(df):\n",
    "    # NorthEast: -1, NorthWest: 0 Center: 1, South: 2, Island: 3\n",
    "    location = np.load(\"location.npy\").item()\n",
    "\n",
    "    df[\"NorthEast\"] = np.zeros((df.shape[0],1)).flatten()\n",
    "    df[\"NorthWest\"] = np.zeros((df.shape[0], 1)).flatten()\n",
    "    df[\"Center\"] = np.zeros((df.shape[0],1)).flatten()\n",
    "    df[\"South\"] = np.zeros((df.shape[0],1)).flatten()\n",
    "    df[\"Islands\"] = np.zeros((df.shape[0], 1)).flatten()\n",
    "\n",
    "    def f(x):\n",
    "        if(str(x[\"Region\"])==\"nan\"): return x\n",
    "        elif (location[x[\"Region\"]] == -1): x[\"NorthEast\"] = 1.0\n",
    "        elif(location[x[\"Region\"]]==0): x[\"NorthWest\"] = 1.0\n",
    "        elif(location[x[\"Region\"]]==1): x[\"Center\"] = 1.0\n",
    "        elif (location[x[\"Region\"]] == 2): x[\"South\"] = 1.0\n",
    "        elif (location[x[\"Region\"]] == 3): x[\"Islands\"] = 1.0\n",
    "        return x\n",
    "    df = df.apply(f, axis=1)\n",
    "    \n",
    "    return df"
   ]
  },
  {
   "cell_type": "markdown",
   "metadata": {},
   "source": [
    "__\"fix_ZipCode\"__ modifies the original format of the zipcodes. It returns the same column but the zipcodes are now in the standard format to be used for data analysis."
   ]
  },
  {
   "cell_type": "code",
   "execution_count": 181,
   "metadata": {},
   "outputs": [],
   "source": [
    "def fix_ZipCode(df):\n",
    "    def f(x):\n",
    "        if (str(x) == \"nan\"): return x\n",
    "        x = str(int(x))\n",
    "        for i in range(5-len(x)): x=\"0\"+x\n",
    "        return x\n",
    "    df[\"ZipCode\"] = df[\"ZipCode\"].apply(f)\n",
    "    \n",
    "    return df"
   ]
  },
  {
   "cell_type": "markdown",
   "metadata": {},
   "source": [
    "__\"make_shops\"__ This function takes as an input a file containg a dataset of all the Vodafone Stores in Italy which we obtained through webscraping. The function identifies the number of stores present near a user based on the zipcode."
   ]
  },
  {
   "cell_type": "code",
   "execution_count": 182,
   "metadata": {},
   "outputs": [],
   "source": [
    "def make_shops(df):\n",
    "    shops = np.load(\"shops.npy\").item()\n",
    "    def f(x):\n",
    "        if (\"nan\" in str(x[\"ZipCode\"])): return x\n",
    "        else:\n",
    "            try:\n",
    "                if(shops[x[\"ZipCode\"]]>=4): x[\"Shops\"] = 1.0\n",
    "                else:                       x[\"Shops\"] = shops[x[\"ZipCode\"]]/4\n",
    "            except: x[\"Shops\"] = 0.0\n",
    "            return x\n",
    "    df = df.apply(f, axis=1)\n",
    "\n",
    "    return df"
   ]
  },
  {
   "cell_type": "markdown",
   "metadata": {},
   "source": [
    "__\"remove_nans_CustomerAge\"__ Fills in the NaN values of the CustomerAge column. \n",
    "\n",
    "We decided to fill them in with the averages of each gender."
   ]
  },
  {
   "cell_type": "code",
   "execution_count": 183,
   "metadata": {},
   "outputs": [],
   "source": [
    "def remove_nans_CustomerAge(df):\n",
    "    male_avg = 0.53519028\n",
    "    female_avg = 0.52472219\n",
    "    def f(x):\n",
    "        if(str(x[\"CustomerAge\"]) in \"nan\"):\n",
    "            if(x[\"CustomerGender\"]==1): x[\"CustomerAge\"] = male_avg\n",
    "            elif(x[\"CustomerGender\"]==0): x[\"CustomerAge\"] = female_avg\n",
    "        return x\n",
    "    df = df.apply(f, axis=1)\n",
    "    \n",
    "    return df"
   ]
  },
  {
   "cell_type": "markdown",
   "metadata": {},
   "source": [
    "__\"remove_nans_DataArpu\"__ Fills in the NaN values of the DataArpu column.\n",
    "\n",
    "It is done using linear regression."
   ]
  },
  {
   "cell_type": "code",
   "execution_count": 184,
   "metadata": {},
   "outputs": [],
   "source": [
    "def remove_nans_DataArpu(df):\n",
    "    # X = \"DataAllowance\"\n",
    "    # Coef: 0.25304055 ; Y_intercept: 0.10605818\n",
    "    def f(x):\n",
    "        if (\"nan\" in str(x[\"DataArpu\"])):\n",
    "            x[\"DataArpu\"] = 0.25304055*x[\"DataAllowance\"] + 0.10605818\n",
    "        return x\n",
    "    df = df.apply(f, axis=1)\n",
    "    \n",
    "    return df"
   ]
  },
  {
   "cell_type": "markdown",
   "metadata": {},
   "source": [
    "__\"remove_nans_DataAllowance\"__ Fills in the NaN values of the DataAllowance column.\n",
    "\n",
    "It is done using linear regression."
   ]
  },
  {
   "cell_type": "code",
   "execution_count": 185,
   "metadata": {},
   "outputs": [],
   "source": [
    "def remove_nans_DataAllowance(df):\n",
    "    # X = \"MonthlyDataTraffic\", \"MonthlyVoiceTrafficCount\", \"MonthlySmsTrafficCount\"\n",
    "    # Coef: 0.62421567, 0.02758238, 0.03996504 ; Y_intercept: 0.17282045\n",
    "    def f(x):\n",
    "        if (\"nan\" in str(x[\"DataAllowance\"])):\n",
    "            x[\"DataAllowance\"] =0.62421567*x[\"MonthlyDataTraffic\"] + 0.02758238*x[\"MonthlyVoiceTrafficCount\"] + 0.03996504*x[\"MonthlySmsTrafficCount\"] + 0.17282045\n",
    "        return x\n",
    "    df = df.apply(f, axis=1)\n",
    "    \n",
    "    return df"
   ]
  },
  {
   "cell_type": "markdown",
   "metadata": {},
   "source": [
    "__\"remove_nans_ZipCode\"__  Fills in the NaN values of the ZipCode column.\n",
    "\n",
    "We selected the most common zipcodes and put them in a list. We then picked one at random and assigned it to the user with a missing value."
   ]
  },
  {
   "cell_type": "code",
   "execution_count": 186,
   "metadata": {},
   "outputs": [],
   "source": [
    "def remove_nans_ZipCode(df):\n",
    "    \n",
    "    common = ['71121', '20090', '20010', '85100', '20146', '00012', '43122', '00172', '80126', '00040', '29010',\n",
    "              '22100', '71122', '88046', '07100', '58100', '76123', '54100', '95030', '26100', '31100', '20144',\n",
    "              '74016', '41012', '12051', '17100', '24060', '55100', '37138', '36100', '00054', '24020', '55047',\n",
    "              '00159', '10070', '03100', '27029', '20811', '10024', '00168', '81100', '95024', '10020', '21040',\n",
    "              '70056', '88100', '21047', '10073', '00134', '18038', '37069', '27025', '21100', '43125', '67100',\n",
    "              '66020', '30174', '00019', '15121', '00167', '71121', '64100', '67039', '16152', '04100', '80010',\n",
    "              '20063', '26013', '21052', '15010', '00125', '32030', '20123', '89129', '00176', '20833', '84121',\n",
    "              '11100', '07021', '00053', '50050', '38010', '80065', '18010', '00198', '04026', '00175', '54033',\n",
    "              '46029', '30016', '21051', '40138', '00010', '22036', '10153', '23100', '07026', '16134', '28100',\n",
    "              '10036', '20147', '10139', '20080', '80078', '59100', '53100', '00199', '10042', '72100', '70022',\n",
    "              '00124', '87064', '80026', '00139', '00015', '38123', '39100', '00179', '37059', '00177', '70121',\n",
    "              '87100', '09123', '43123', '10022', '47521', '00135', '00128', '46100', '20091', '70010', '15060',\n",
    "              '10060', '40131', '16156', '10090', '80055', '21013', '55049', '32032', '00153', '80131', '22040',\n",
    "              '10040', '76011', '20861', '20136', '15076', '71036', '66054', '09134', '58023', '10149', '06056',\n",
    "              '80014', '12042', '20131', '16132', '20851', '40139', '80129', '09127', '10072', '36016', '23023',\n",
    "              '10143', '37011', '20017', '00049', '22030', '21030', '37060', '14055', '30173', '31050', '00132',\n",
    "              '37057', '67046', '70019', '20812', '40124', '84091', '10043', '41019', '64028', '87032', '57125',\n",
    "              '36010', '28923', '50059', '37135', '84131', '09041', '72022', '83031', '20151', '08020', '81030',\n",
    "              '37017', '36061']\n",
    "\n",
    "    def f(x):\n",
    "        if(\"nan\" in str(x[\"ZipCode\"])):\n",
    "            x[\"ZipCode\"] = random.choice(common)\n",
    "        return x\n",
    "    df = df.apply(f, axis = 1)\n",
    "    \n",
    "    return df"
   ]
  },
  {
   "cell_type": "markdown",
   "metadata": {},
   "source": [
    "__\"get_province_region_from_zipcode\"__ The function fills in the missing values of province and region by using the zipcodes. \n",
    "\n",
    "For the missing values, we picked at random one province from the list."
   ]
  },
  {
   "cell_type": "code",
   "execution_count": 187,
   "metadata": {},
   "outputs": [],
   "source": [
    "def get_province_region_from_zipcode(df):\n",
    "    zipcode_province = np.load(\"zipcode_province.npy\").item()\n",
    "    province_region = np.load(\"province_region.npy\").item()\n",
    "    provinces = ['TARANTO', 'LATINA', 'BRESCIA', 'REGGIO DI CALABRIA', 'NAPOLI', 'POTENZA', \"L'AQUILA\", 'SIENA',\n",
    "                'CHIETI', 'BERGAMO', 'BELLUNO', 'BARLETTA-ANDRIA-TRANI', 'CAMPOBASSO', 'VARESE', 'PISA', 'PALERMO',\n",
    "                'LA SPEZIA', 'MONZA E BRIANZA', 'PARMA', 'ROVIGO', 'CAGLIARI', \"REGGIO NELL'EMILIA\", 'PRATO', \"VALLE D'AOSTA\",\n",
    "                 'NUORO', 'BOLOGNA', 'MATERA', 'VERBANO-CUSIO-OSSOLA', 'SALERNO', 'MILANO', 'GORIZIA', 'COMO', 'TRAPANI',\n",
    "                 'UDINE', 'TRIESTE', 'MASSA-CARRARA', 'PESARO E URBINO', 'CATANZARO', 'MEDIO CAMPIDANO', 'CUNEO', 'LECCO',\n",
    "                 'SIRACUSA', 'PISTOIA', 'SASSARI', 'PORDENONE', 'MODENA', 'FROSINONE', 'MACERATA', 'ALESSANDRIA', 'GROSSETO',\n",
    "                 'AVELLINO', 'MANTOVA', 'RAGUSA', 'TERAMO', 'SONDRIO', 'TREVISO', 'RIMINI', 'OLBIA-TEMPIO', 'VERONA', 'ISERNIA',\n",
    "                 'FOGGIA', 'LECCE', 'RAVENNA', 'CASERTA', 'ORISTANO', 'TRENTO', 'AREZZO', 'PESCARA', 'CATANIA', 'TERNI',\n",
    "                 'BRINDISI', 'LODI', 'ROMA', 'VENEZIA', 'CREMONA', 'CALTANISSETTA', 'ASTI', 'BENEVENTO', 'FORLI', 'SAVONA',\n",
    "                 'FIRENZE', 'TORINO', 'VIBO VALENTIA', 'NOVARA', 'CARBONIA-IGLESIAS', 'VICENZA', 'BOLZANO-BOZEN', 'FERMO', 'MESSINA',\n",
    "                 'BIELLA', 'GENOVA', 'BARI', 'PERUGIA', 'PIACENZA', 'VERCELLI', 'LUCCA', 'COSENZA', 'RIETI', 'FERRARA', 'PAVIA',\n",
    "                 'IMPERIA', 'PADOVA', 'LIVORNO', 'VITERBO', 'AGRIGENTO', 'CROTONE', 'ASCOLI PICENO', 'ANCONA']\n",
    "\n",
    "    def f(x):\n",
    "        if(\"nan\" in str(x[\"Province\"])):\n",
    "            try:    province = zipcode_province[x[\"ZipCode\"]]\n",
    "            except: province = random.choice(provinces)\n",
    "            x[\"Province\"] = province\n",
    "            x[\"Region\"] = province_region[province]  #\n",
    "        \n",
    "        return x\n",
    "\n",
    "    df  = df.apply(f, axis=1)\n",
    "\n",
    "    return df"
   ]
  },
  {
   "cell_type": "markdown",
   "metadata": {},
   "source": [
    "__\"remove_other_nans\"__ Replaces the NaN values in the columns we have not considered yet, with the average of each column."
   ]
  },
  {
   "cell_type": "code",
   "execution_count": 188,
   "metadata": {},
   "outputs": [],
   "source": [
    "def remove_other_nans(df):\n",
    "    #Replace nans with the respective averages\n",
    "    MonthlyVoiceTrafficCount_avg = 0.108776475955\n",
    "    MonthlySmsTrafficCount_avg = 0.002014\n",
    "    MonthlyDataTraffic_avg = 0.0557599391181\n",
    "\n",
    "\n",
    "    df[\"MonthlyVoiceTrafficCount\"] = df[\"MonthlyVoiceTrafficCount\"].fillna(MonthlyVoiceTrafficCount_avg)\n",
    "    df[\"MonthlySmsTrafficCount\"] = df[\"MonthlySmsTrafficCount\"].fillna(MonthlySmsTrafficCount_avg)\n",
    "    df[\"MonthlyDataTraffic\"] = df[\"MonthlyDataTraffic\"].fillna(MonthlyDataTraffic_avg)\n",
    "\n",
    "    return df"
   ]
  },
  {
   "cell_type": "markdown",
   "metadata": {},
   "source": [
    "__\"remove_with_more_nans\"__ This function deletes the rows (users) with too many missing values."
   ]
  },
  {
   "cell_type": "code",
   "execution_count": 189,
   "metadata": {},
   "outputs": [],
   "source": [
    "def remove_with_more_nans(df,n = 4):\n",
    "    null = np.sum(df.isnull().as_matrix(), axis=1)\n",
    "    inds = np.argwhere(null>=n).flatten().tolist()\n",
    "    df = df.drop(df.index[inds])\n",
    "    return df"
   ]
  },
  {
   "cell_type": "markdown",
   "metadata": {},
   "source": [
    "## Main Function"
   ]
  },
  {
   "cell_type": "markdown",
   "metadata": {},
   "source": [
    "This is the __\"main\"__ function. It cleans the initial data set by calling all of the functions we have defined above.\n",
    "\n",
    "Y is the product purchased by each user. \n",
    "\n",
    "We reordered the columns of the dataframe, in order to make it easier to work with.\n",
    "\n",
    "We saved Y as a separate npy file, so that we can use it with our algorithm.\n",
    "\n",
    "For correct functioning it is important to keep all the attached files (dictionaries, cvs) in the same folder. <br>"
   ]
  },
  {
   "cell_type": "code",
   "execution_count": 190,
   "metadata": {},
   "outputs": [],
   "source": [
    "def main():\n",
    "    df = pd.read_csv(\"dataset_challenge_v5.TRAINING.csv\")\n",
    "    df = remove_with_more_nans(df, n=8)\n",
    "    \n",
    "    if(\"Product\" in list(df.columns.values)): y_in_df = True\n",
    "    else: y_in_df = False\n",
    "    \n",
    "    print(y_in_df)\n",
    "\n",
    "    if(y_in_df): Y, df = get_Y(df)\n",
    "    else: Y = None\n",
    "    #Y = np.argmax(Y, axis=1).reshape(-1, 1)\n",
    "\n",
    "    df = fix_ZipCode(df)\n",
    "    df = remove_nans_ZipCode(df)\n",
    "    df = get_province_region_from_zipcode(df)\n",
    "    df = fix_CustomerAge(df)\n",
    "    df = fix_DeviceOperatingSystem(df)\n",
    "    df = make_density(df)\n",
    "    df = make_gdp(df)\n",
    "    df = make_location(df)\n",
    "    df = make_shops(df)\n",
    "    df = remove_other_nans(df)\n",
    "    df = remove_nans_CustomerAge(df)\n",
    "    df = remove_nans_DataAllowance(df)\n",
    "    df = remove_nans_DataArpu(df)\n",
    "\n",
    "    columns_required = ['Product','CustomerAge', 'CustomerGender', 'CustomerImmigrant', 'DataAllowance', 'DataArpu', 'DeviceFlag4G',\n",
    "                        'DeviceFlagSmartphone' , 'iOS', 'Android', 'Other OS', 'Gdp', 'Shops', 'Urban', 'SemiUrban', 'Rural',\n",
    "                        'NorthEast', 'NorthWest', 'Center', 'South', 'Islands',\n",
    "                        'File-Transfer', 'Games', 'Instant-Messaging-Applications', 'Mail', 'MonthlyDataTraffic',\n",
    "                        'MonthlySmsTrafficCount', 'MonthlyVoiceTrafficCount','Music-Streaming', 'Network-Operation', 'P2P-Applications',\n",
    "                        'Security','Streaming-Applications','Terminals', 'Unclassified', 'VoIP', 'Web-Applications']\n",
    "    df = df[columns_required]\n",
    "\n",
    "    return df, Y"
   ]
  },
  {
   "cell_type": "code",
   "execution_count": 191,
   "metadata": {},
   "outputs": [
    {
     "name": "stdout",
     "output_type": "stream",
     "text": [
      "True\n"
     ]
    }
   ],
   "source": [
    "df, Y = main()"
   ]
  },
  {
   "cell_type": "markdown",
   "metadata": {},
   "source": [
    "# 2. DATA VISUALIZATION"
   ]
  },
  {
   "cell_type": "markdown",
   "metadata": {},
   "source": [
    "Before working on a clean dataset it is always a good idea to get a first glimpse of how the data is spread out. <br>\n",
    "\n",
    "In this section we wanted to get an overview of the most important characteristics of our dataframe. <br>\n",
    "Plotting different attributes is a way to visually verify the presence of any outliers or impossible data values (negative age)."
   ]
  },
  {
   "cell_type": "markdown",
   "metadata": {},
   "source": [
    "## Data Description"
   ]
  },
  {
   "cell_type": "code",
   "execution_count": 192,
   "metadata": {},
   "outputs": [
    {
     "data": {
      "text/html": [
       "<div>\n",
       "<style scoped>\n",
       "    .dataframe tbody tr th:only-of-type {\n",
       "        vertical-align: middle;\n",
       "    }\n",
       "\n",
       "    .dataframe tbody tr th {\n",
       "        vertical-align: top;\n",
       "    }\n",
       "\n",
       "    .dataframe thead th {\n",
       "        text-align: right;\n",
       "    }\n",
       "</style>\n",
       "<table border=\"1\" class=\"dataframe\">\n",
       "  <thead>\n",
       "    <tr style=\"text-align: right;\">\n",
       "      <th></th>\n",
       "      <th>Product</th>\n",
       "      <th>CustomerAge</th>\n",
       "      <th>CustomerGender</th>\n",
       "      <th>CustomerImmigrant</th>\n",
       "      <th>DataAllowance</th>\n",
       "      <th>DataArpu</th>\n",
       "      <th>DeviceFlag4G</th>\n",
       "      <th>DeviceFlagSmartphone</th>\n",
       "      <th>iOS</th>\n",
       "      <th>Android</th>\n",
       "      <th>...</th>\n",
       "      <th>MonthlyVoiceTrafficCount</th>\n",
       "      <th>Music-Streaming</th>\n",
       "      <th>Network-Operation</th>\n",
       "      <th>P2P-Applications</th>\n",
       "      <th>Security</th>\n",
       "      <th>Streaming-Applications</th>\n",
       "      <th>Terminals</th>\n",
       "      <th>Unclassified</th>\n",
       "      <th>VoIP</th>\n",
       "      <th>Web-Applications</th>\n",
       "    </tr>\n",
       "  </thead>\n",
       "  <tbody>\n",
       "    <tr>\n",
       "      <th>0</th>\n",
       "      <td>1</td>\n",
       "      <td>1.000000</td>\n",
       "      <td>0.0</td>\n",
       "      <td>0.0</td>\n",
       "      <td>0.239013</td>\n",
       "      <td>0.023735</td>\n",
       "      <td>0.0</td>\n",
       "      <td>1.0</td>\n",
       "      <td>1.0</td>\n",
       "      <td>0.0</td>\n",
       "      <td>...</td>\n",
       "      <td>0.156938</td>\n",
       "      <td>0.003853</td>\n",
       "      <td>0.000936</td>\n",
       "      <td>5.491870e-08</td>\n",
       "      <td>0.002637</td>\n",
       "      <td>0.550123</td>\n",
       "      <td>0.0</td>\n",
       "      <td>0.000301</td>\n",
       "      <td>0.000773</td>\n",
       "      <td>0.291156</td>\n",
       "    </tr>\n",
       "    <tr>\n",
       "      <th>1</th>\n",
       "      <td>2</td>\n",
       "      <td>0.764706</td>\n",
       "      <td>1.0</td>\n",
       "      <td>0.0</td>\n",
       "      <td>0.239013</td>\n",
       "      <td>0.118674</td>\n",
       "      <td>0.0</td>\n",
       "      <td>1.0</td>\n",
       "      <td>0.0</td>\n",
       "      <td>1.0</td>\n",
       "      <td>...</td>\n",
       "      <td>0.053965</td>\n",
       "      <td>0.000000</td>\n",
       "      <td>0.000000</td>\n",
       "      <td>0.000000e+00</td>\n",
       "      <td>0.001790</td>\n",
       "      <td>0.010782</td>\n",
       "      <td>0.0</td>\n",
       "      <td>0.026300</td>\n",
       "      <td>0.011175</td>\n",
       "      <td>0.632345</td>\n",
       "    </tr>\n",
       "    <tr>\n",
       "      <th>2</th>\n",
       "      <td>2</td>\n",
       "      <td>0.411765</td>\n",
       "      <td>0.0</td>\n",
       "      <td>0.0</td>\n",
       "      <td>0.095605</td>\n",
       "      <td>0.178010</td>\n",
       "      <td>1.0</td>\n",
       "      <td>1.0</td>\n",
       "      <td>0.0</td>\n",
       "      <td>1.0</td>\n",
       "      <td>...</td>\n",
       "      <td>0.039923</td>\n",
       "      <td>0.000001</td>\n",
       "      <td>0.000005</td>\n",
       "      <td>2.395075e-05</td>\n",
       "      <td>0.029518</td>\n",
       "      <td>0.372174</td>\n",
       "      <td>0.0</td>\n",
       "      <td>0.011640</td>\n",
       "      <td>0.002848</td>\n",
       "      <td>0.503553</td>\n",
       "    </tr>\n",
       "    <tr>\n",
       "      <th>3</th>\n",
       "      <td>1</td>\n",
       "      <td>0.882353</td>\n",
       "      <td>1.0</td>\n",
       "      <td>0.0</td>\n",
       "      <td>0.119507</td>\n",
       "      <td>0.249070</td>\n",
       "      <td>0.0</td>\n",
       "      <td>0.0</td>\n",
       "      <td>1.0</td>\n",
       "      <td>0.0</td>\n",
       "      <td>...</td>\n",
       "      <td>0.147852</td>\n",
       "      <td>0.069575</td>\n",
       "      <td>0.016854</td>\n",
       "      <td>0.000000e+00</td>\n",
       "      <td>0.005859</td>\n",
       "      <td>0.134255</td>\n",
       "      <td>0.0</td>\n",
       "      <td>0.003630</td>\n",
       "      <td>0.000030</td>\n",
       "      <td>0.431561</td>\n",
       "    </tr>\n",
       "    <tr>\n",
       "      <th>4</th>\n",
       "      <td>3</td>\n",
       "      <td>0.411765</td>\n",
       "      <td>1.0</td>\n",
       "      <td>0.0</td>\n",
       "      <td>0.289900</td>\n",
       "      <td>0.083072</td>\n",
       "      <td>0.0</td>\n",
       "      <td>0.0</td>\n",
       "      <td>1.0</td>\n",
       "      <td>0.0</td>\n",
       "      <td>...</td>\n",
       "      <td>0.064152</td>\n",
       "      <td>0.006521</td>\n",
       "      <td>0.001321</td>\n",
       "      <td>7.058996e-05</td>\n",
       "      <td>0.001687</td>\n",
       "      <td>0.327205</td>\n",
       "      <td>0.0</td>\n",
       "      <td>0.000151</td>\n",
       "      <td>0.000748</td>\n",
       "      <td>0.640527</td>\n",
       "    </tr>\n",
       "    <tr>\n",
       "      <th>5</th>\n",
       "      <td>1</td>\n",
       "      <td>0.647059</td>\n",
       "      <td>1.0</td>\n",
       "      <td>0.0</td>\n",
       "      <td>0.024672</td>\n",
       "      <td>0.076564</td>\n",
       "      <td>0.0</td>\n",
       "      <td>1.0</td>\n",
       "      <td>1.0</td>\n",
       "      <td>0.0</td>\n",
       "      <td>...</td>\n",
       "      <td>0.107654</td>\n",
       "      <td>0.006426</td>\n",
       "      <td>0.001967</td>\n",
       "      <td>3.625449e-05</td>\n",
       "      <td>0.008794</td>\n",
       "      <td>0.540695</td>\n",
       "      <td>0.0</td>\n",
       "      <td>0.003318</td>\n",
       "      <td>0.006316</td>\n",
       "      <td>0.349410</td>\n",
       "    </tr>\n",
       "    <tr>\n",
       "      <th>6</th>\n",
       "      <td>3</td>\n",
       "      <td>0.529412</td>\n",
       "      <td>1.0</td>\n",
       "      <td>0.0</td>\n",
       "      <td>0.239013</td>\n",
       "      <td>0.083072</td>\n",
       "      <td>0.0</td>\n",
       "      <td>1.0</td>\n",
       "      <td>1.0</td>\n",
       "      <td>0.0</td>\n",
       "      <td>...</td>\n",
       "      <td>0.000000</td>\n",
       "      <td>0.000000</td>\n",
       "      <td>0.000000</td>\n",
       "      <td>0.000000e+00</td>\n",
       "      <td>0.000000</td>\n",
       "      <td>0.001674</td>\n",
       "      <td>0.0</td>\n",
       "      <td>0.005731</td>\n",
       "      <td>0.004340</td>\n",
       "      <td>0.960524</td>\n",
       "    </tr>\n",
       "    <tr>\n",
       "      <th>7</th>\n",
       "      <td>2</td>\n",
       "      <td>0.764706</td>\n",
       "      <td>1.0</td>\n",
       "      <td>0.0</td>\n",
       "      <td>0.047803</td>\n",
       "      <td>0.142408</td>\n",
       "      <td>0.0</td>\n",
       "      <td>1.0</td>\n",
       "      <td>0.0</td>\n",
       "      <td>1.0</td>\n",
       "      <td>...</td>\n",
       "      <td>0.033866</td>\n",
       "      <td>0.000000</td>\n",
       "      <td>0.000000</td>\n",
       "      <td>0.000000e+00</td>\n",
       "      <td>0.000000</td>\n",
       "      <td>0.038692</td>\n",
       "      <td>0.0</td>\n",
       "      <td>0.004357</td>\n",
       "      <td>0.008780</td>\n",
       "      <td>0.902594</td>\n",
       "    </tr>\n",
       "    <tr>\n",
       "      <th>8</th>\n",
       "      <td>3</td>\n",
       "      <td>0.411765</td>\n",
       "      <td>0.0</td>\n",
       "      <td>0.0</td>\n",
       "      <td>0.138782</td>\n",
       "      <td>0.213468</td>\n",
       "      <td>1.0</td>\n",
       "      <td>1.0</td>\n",
       "      <td>0.0</td>\n",
       "      <td>1.0</td>\n",
       "      <td>...</td>\n",
       "      <td>0.061399</td>\n",
       "      <td>0.000000</td>\n",
       "      <td>0.000000</td>\n",
       "      <td>0.000000e+00</td>\n",
       "      <td>0.007981</td>\n",
       "      <td>0.227982</td>\n",
       "      <td>0.0</td>\n",
       "      <td>0.001489</td>\n",
       "      <td>0.003940</td>\n",
       "      <td>0.682028</td>\n",
       "    </tr>\n",
       "    <tr>\n",
       "      <th>9</th>\n",
       "      <td>1</td>\n",
       "      <td>0.647059</td>\n",
       "      <td>0.0</td>\n",
       "      <td>0.0</td>\n",
       "      <td>0.268311</td>\n",
       "      <td>0.284817</td>\n",
       "      <td>1.0</td>\n",
       "      <td>1.0</td>\n",
       "      <td>1.0</td>\n",
       "      <td>0.0</td>\n",
       "      <td>...</td>\n",
       "      <td>0.001101</td>\n",
       "      <td>0.087451</td>\n",
       "      <td>0.003384</td>\n",
       "      <td>0.000000e+00</td>\n",
       "      <td>0.000000</td>\n",
       "      <td>0.000540</td>\n",
       "      <td>0.0</td>\n",
       "      <td>0.002146</td>\n",
       "      <td>0.000000</td>\n",
       "      <td>0.299262</td>\n",
       "    </tr>\n",
       "  </tbody>\n",
       "</table>\n",
       "<p>10 rows × 37 columns</p>\n",
       "</div>"
      ],
      "text/plain": [
       "   Product  CustomerAge  CustomerGender  CustomerImmigrant  DataAllowance  \\\n",
       "0        1     1.000000             0.0                0.0       0.239013   \n",
       "1        2     0.764706             1.0                0.0       0.239013   \n",
       "2        2     0.411765             0.0                0.0       0.095605   \n",
       "3        1     0.882353             1.0                0.0       0.119507   \n",
       "4        3     0.411765             1.0                0.0       0.289900   \n",
       "5        1     0.647059             1.0                0.0       0.024672   \n",
       "6        3     0.529412             1.0                0.0       0.239013   \n",
       "7        2     0.764706             1.0                0.0       0.047803   \n",
       "8        3     0.411765             0.0                0.0       0.138782   \n",
       "9        1     0.647059             0.0                0.0       0.268311   \n",
       "\n",
       "   DataArpu  DeviceFlag4G  DeviceFlagSmartphone  iOS  Android  \\\n",
       "0  0.023735           0.0                   1.0  1.0      0.0   \n",
       "1  0.118674           0.0                   1.0  0.0      1.0   \n",
       "2  0.178010           1.0                   1.0  0.0      1.0   \n",
       "3  0.249070           0.0                   0.0  1.0      0.0   \n",
       "4  0.083072           0.0                   0.0  1.0      0.0   \n",
       "5  0.076564           0.0                   1.0  1.0      0.0   \n",
       "6  0.083072           0.0                   1.0  1.0      0.0   \n",
       "7  0.142408           0.0                   1.0  0.0      1.0   \n",
       "8  0.213468           1.0                   1.0  0.0      1.0   \n",
       "9  0.284817           1.0                   1.0  1.0      0.0   \n",
       "\n",
       "         ...         MonthlyVoiceTrafficCount  Music-Streaming  \\\n",
       "0        ...                         0.156938         0.003853   \n",
       "1        ...                         0.053965         0.000000   \n",
       "2        ...                         0.039923         0.000001   \n",
       "3        ...                         0.147852         0.069575   \n",
       "4        ...                         0.064152         0.006521   \n",
       "5        ...                         0.107654         0.006426   \n",
       "6        ...                         0.000000         0.000000   \n",
       "7        ...                         0.033866         0.000000   \n",
       "8        ...                         0.061399         0.000000   \n",
       "9        ...                         0.001101         0.087451   \n",
       "\n",
       "   Network-Operation  P2P-Applications  Security  Streaming-Applications  \\\n",
       "0           0.000936      5.491870e-08  0.002637                0.550123   \n",
       "1           0.000000      0.000000e+00  0.001790                0.010782   \n",
       "2           0.000005      2.395075e-05  0.029518                0.372174   \n",
       "3           0.016854      0.000000e+00  0.005859                0.134255   \n",
       "4           0.001321      7.058996e-05  0.001687                0.327205   \n",
       "5           0.001967      3.625449e-05  0.008794                0.540695   \n",
       "6           0.000000      0.000000e+00  0.000000                0.001674   \n",
       "7           0.000000      0.000000e+00  0.000000                0.038692   \n",
       "8           0.000000      0.000000e+00  0.007981                0.227982   \n",
       "9           0.003384      0.000000e+00  0.000000                0.000540   \n",
       "\n",
       "   Terminals  Unclassified      VoIP  Web-Applications  \n",
       "0        0.0      0.000301  0.000773          0.291156  \n",
       "1        0.0      0.026300  0.011175          0.632345  \n",
       "2        0.0      0.011640  0.002848          0.503553  \n",
       "3        0.0      0.003630  0.000030          0.431561  \n",
       "4        0.0      0.000151  0.000748          0.640527  \n",
       "5        0.0      0.003318  0.006316          0.349410  \n",
       "6        0.0      0.005731  0.004340          0.960524  \n",
       "7        0.0      0.004357  0.008780          0.902594  \n",
       "8        0.0      0.001489  0.003940          0.682028  \n",
       "9        0.0      0.002146  0.000000          0.299262  \n",
       "\n",
       "[10 rows x 37 columns]"
      ]
     },
     "execution_count": 192,
     "metadata": {},
     "output_type": "execute_result"
    }
   ],
   "source": [
    "df.head(10)"
   ]
  },
  {
   "cell_type": "code",
   "execution_count": 193,
   "metadata": {
    "scrolled": true
   },
   "outputs": [
    {
     "data": {
      "text/html": [
       "<div>\n",
       "<style scoped>\n",
       "    .dataframe tbody tr th:only-of-type {\n",
       "        vertical-align: middle;\n",
       "    }\n",
       "\n",
       "    .dataframe tbody tr th {\n",
       "        vertical-align: top;\n",
       "    }\n",
       "\n",
       "    .dataframe thead th {\n",
       "        text-align: right;\n",
       "    }\n",
       "</style>\n",
       "<table border=\"1\" class=\"dataframe\">\n",
       "  <thead>\n",
       "    <tr style=\"text-align: right;\">\n",
       "      <th></th>\n",
       "      <th>Product</th>\n",
       "      <th>CustomerAge</th>\n",
       "      <th>CustomerGender</th>\n",
       "      <th>CustomerImmigrant</th>\n",
       "      <th>DataAllowance</th>\n",
       "      <th>DataArpu</th>\n",
       "      <th>DeviceFlag4G</th>\n",
       "      <th>DeviceFlagSmartphone</th>\n",
       "      <th>iOS</th>\n",
       "      <th>Android</th>\n",
       "      <th>...</th>\n",
       "      <th>MonthlyVoiceTrafficCount</th>\n",
       "      <th>Music-Streaming</th>\n",
       "      <th>Network-Operation</th>\n",
       "      <th>P2P-Applications</th>\n",
       "      <th>Security</th>\n",
       "      <th>Streaming-Applications</th>\n",
       "      <th>Terminals</th>\n",
       "      <th>Unclassified</th>\n",
       "      <th>VoIP</th>\n",
       "      <th>Web-Applications</th>\n",
       "    </tr>\n",
       "  </thead>\n",
       "  <tbody>\n",
       "    <tr>\n",
       "      <th>count</th>\n",
       "      <td>1914.000000</td>\n",
       "      <td>1914.000000</td>\n",
       "      <td>1914.000000</td>\n",
       "      <td>1914.000000</td>\n",
       "      <td>1914.000000</td>\n",
       "      <td>1914.000000</td>\n",
       "      <td>1914.000000</td>\n",
       "      <td>1914.000000</td>\n",
       "      <td>1914.000000</td>\n",
       "      <td>1914.000000</td>\n",
       "      <td>...</td>\n",
       "      <td>1914.000000</td>\n",
       "      <td>1914.000000</td>\n",
       "      <td>1914.000000</td>\n",
       "      <td>1.914000e+03</td>\n",
       "      <td>1914.000000</td>\n",
       "      <td>1914.000000</td>\n",
       "      <td>1914.000000</td>\n",
       "      <td>1914.000000</td>\n",
       "      <td>1914.000000</td>\n",
       "      <td>1914.000000</td>\n",
       "    </tr>\n",
       "    <tr>\n",
       "      <th>mean</th>\n",
       "      <td>1.794671</td>\n",
       "      <td>0.531849</td>\n",
       "      <td>0.680773</td>\n",
       "      <td>0.040752</td>\n",
       "      <td>0.211028</td>\n",
       "      <td>0.159457</td>\n",
       "      <td>0.443051</td>\n",
       "      <td>0.913271</td>\n",
       "      <td>0.390282</td>\n",
       "      <td>0.592999</td>\n",
       "      <td>...</td>\n",
       "      <td>0.108910</td>\n",
       "      <td>0.023958</td>\n",
       "      <td>0.002227</td>\n",
       "      <td>4.188752e-03</td>\n",
       "      <td>0.013316</td>\n",
       "      <td>0.230077</td>\n",
       "      <td>0.000642</td>\n",
       "      <td>0.013672</td>\n",
       "      <td>0.011674</td>\n",
       "      <td>0.566487</td>\n",
       "    </tr>\n",
       "    <tr>\n",
       "      <th>std</th>\n",
       "      <td>0.988249</td>\n",
       "      <td>0.156894</td>\n",
       "      <td>0.466299</td>\n",
       "      <td>0.197768</td>\n",
       "      <td>0.136842</td>\n",
       "      <td>0.086304</td>\n",
       "      <td>0.496876</td>\n",
       "      <td>0.281512</td>\n",
       "      <td>0.487941</td>\n",
       "      <td>0.491403</td>\n",
       "      <td>...</td>\n",
       "      <td>0.100212</td>\n",
       "      <td>0.066214</td>\n",
       "      <td>0.025284</td>\n",
       "      <td>2.737960e-02</td>\n",
       "      <td>0.045304</td>\n",
       "      <td>0.203409</td>\n",
       "      <td>0.010625</td>\n",
       "      <td>0.052177</td>\n",
       "      <td>0.034352</td>\n",
       "      <td>0.205019</td>\n",
       "    </tr>\n",
       "    <tr>\n",
       "      <th>min</th>\n",
       "      <td>0.000000</td>\n",
       "      <td>0.176471</td>\n",
       "      <td>0.000000</td>\n",
       "      <td>0.000000</td>\n",
       "      <td>0.000000</td>\n",
       "      <td>0.000000</td>\n",
       "      <td>0.000000</td>\n",
       "      <td>0.000000</td>\n",
       "      <td>0.000000</td>\n",
       "      <td>0.000000</td>\n",
       "      <td>...</td>\n",
       "      <td>0.000000</td>\n",
       "      <td>0.000000</td>\n",
       "      <td>0.000000</td>\n",
       "      <td>0.000000e+00</td>\n",
       "      <td>0.000000</td>\n",
       "      <td>0.000000</td>\n",
       "      <td>0.000000</td>\n",
       "      <td>0.000000</td>\n",
       "      <td>0.000000</td>\n",
       "      <td>0.000000</td>\n",
       "    </tr>\n",
       "    <tr>\n",
       "      <th>25%</th>\n",
       "      <td>1.000000</td>\n",
       "      <td>0.411765</td>\n",
       "      <td>0.000000</td>\n",
       "      <td>0.000000</td>\n",
       "      <td>0.105050</td>\n",
       "      <td>0.118674</td>\n",
       "      <td>0.000000</td>\n",
       "      <td>1.000000</td>\n",
       "      <td>0.000000</td>\n",
       "      <td>0.000000</td>\n",
       "      <td>...</td>\n",
       "      <td>0.038890</td>\n",
       "      <td>0.000000</td>\n",
       "      <td>0.000000</td>\n",
       "      <td>8.577670e-08</td>\n",
       "      <td>0.000602</td>\n",
       "      <td>0.062831</td>\n",
       "      <td>0.000000</td>\n",
       "      <td>0.001008</td>\n",
       "      <td>0.000523</td>\n",
       "      <td>0.423706</td>\n",
       "    </tr>\n",
       "    <tr>\n",
       "      <th>50%</th>\n",
       "      <td>2.000000</td>\n",
       "      <td>0.529412</td>\n",
       "      <td>1.000000</td>\n",
       "      <td>0.000000</td>\n",
       "      <td>0.194295</td>\n",
       "      <td>0.150817</td>\n",
       "      <td>0.000000</td>\n",
       "      <td>1.000000</td>\n",
       "      <td>0.000000</td>\n",
       "      <td>1.000000</td>\n",
       "      <td>...</td>\n",
       "      <td>0.081085</td>\n",
       "      <td>0.002192</td>\n",
       "      <td>0.000009</td>\n",
       "      <td>1.341457e-05</td>\n",
       "      <td>0.003142</td>\n",
       "      <td>0.180048</td>\n",
       "      <td>0.000000</td>\n",
       "      <td>0.003270</td>\n",
       "      <td>0.002619</td>\n",
       "      <td>0.577202</td>\n",
       "    </tr>\n",
       "    <tr>\n",
       "      <th>75%</th>\n",
       "      <td>3.000000</td>\n",
       "      <td>0.647059</td>\n",
       "      <td>1.000000</td>\n",
       "      <td>0.000000</td>\n",
       "      <td>0.259059</td>\n",
       "      <td>0.178010</td>\n",
       "      <td>1.000000</td>\n",
       "      <td>1.000000</td>\n",
       "      <td>1.000000</td>\n",
       "      <td>1.000000</td>\n",
       "      <td>...</td>\n",
       "      <td>0.147233</td>\n",
       "      <td>0.016950</td>\n",
       "      <td>0.001056</td>\n",
       "      <td>6.086220e-04</td>\n",
       "      <td>0.011216</td>\n",
       "      <td>0.346023</td>\n",
       "      <td>0.000000</td>\n",
       "      <td>0.007903</td>\n",
       "      <td>0.008571</td>\n",
       "      <td>0.719770</td>\n",
       "    </tr>\n",
       "    <tr>\n",
       "      <th>max</th>\n",
       "      <td>3.000000</td>\n",
       "      <td>1.000000</td>\n",
       "      <td>1.000000</td>\n",
       "      <td>1.000000</td>\n",
       "      <td>1.000000</td>\n",
       "      <td>0.925808</td>\n",
       "      <td>1.000000</td>\n",
       "      <td>1.000000</td>\n",
       "      <td>1.000000</td>\n",
       "      <td>1.000000</td>\n",
       "      <td>...</td>\n",
       "      <td>0.806993</td>\n",
       "      <td>0.822515</td>\n",
       "      <td>0.975670</td>\n",
       "      <td>6.255888e-01</td>\n",
       "      <td>0.920648</td>\n",
       "      <td>0.949090</td>\n",
       "      <td>0.326475</td>\n",
       "      <td>0.948303</td>\n",
       "      <td>0.560140</td>\n",
       "      <td>1.000000</td>\n",
       "    </tr>\n",
       "  </tbody>\n",
       "</table>\n",
       "<p>8 rows × 37 columns</p>\n",
       "</div>"
      ],
      "text/plain": [
       "           Product  CustomerAge  CustomerGender  CustomerImmigrant  \\\n",
       "count  1914.000000  1914.000000     1914.000000        1914.000000   \n",
       "mean      1.794671     0.531849        0.680773           0.040752   \n",
       "std       0.988249     0.156894        0.466299           0.197768   \n",
       "min       0.000000     0.176471        0.000000           0.000000   \n",
       "25%       1.000000     0.411765        0.000000           0.000000   \n",
       "50%       2.000000     0.529412        1.000000           0.000000   \n",
       "75%       3.000000     0.647059        1.000000           0.000000   \n",
       "max       3.000000     1.000000        1.000000           1.000000   \n",
       "\n",
       "       DataAllowance     DataArpu  DeviceFlag4G  DeviceFlagSmartphone  \\\n",
       "count    1914.000000  1914.000000   1914.000000           1914.000000   \n",
       "mean        0.211028     0.159457      0.443051              0.913271   \n",
       "std         0.136842     0.086304      0.496876              0.281512   \n",
       "min         0.000000     0.000000      0.000000              0.000000   \n",
       "25%         0.105050     0.118674      0.000000              1.000000   \n",
       "50%         0.194295     0.150817      0.000000              1.000000   \n",
       "75%         0.259059     0.178010      1.000000              1.000000   \n",
       "max         1.000000     0.925808      1.000000              1.000000   \n",
       "\n",
       "               iOS      Android        ...         MonthlyVoiceTrafficCount  \\\n",
       "count  1914.000000  1914.000000        ...                      1914.000000   \n",
       "mean      0.390282     0.592999        ...                         0.108910   \n",
       "std       0.487941     0.491403        ...                         0.100212   \n",
       "min       0.000000     0.000000        ...                         0.000000   \n",
       "25%       0.000000     0.000000        ...                         0.038890   \n",
       "50%       0.000000     1.000000        ...                         0.081085   \n",
       "75%       1.000000     1.000000        ...                         0.147233   \n",
       "max       1.000000     1.000000        ...                         0.806993   \n",
       "\n",
       "       Music-Streaming  Network-Operation  P2P-Applications     Security  \\\n",
       "count      1914.000000        1914.000000      1.914000e+03  1914.000000   \n",
       "mean          0.023958           0.002227      4.188752e-03     0.013316   \n",
       "std           0.066214           0.025284      2.737960e-02     0.045304   \n",
       "min           0.000000           0.000000      0.000000e+00     0.000000   \n",
       "25%           0.000000           0.000000      8.577670e-08     0.000602   \n",
       "50%           0.002192           0.000009      1.341457e-05     0.003142   \n",
       "75%           0.016950           0.001056      6.086220e-04     0.011216   \n",
       "max           0.822515           0.975670      6.255888e-01     0.920648   \n",
       "\n",
       "       Streaming-Applications    Terminals  Unclassified         VoIP  \\\n",
       "count             1914.000000  1914.000000   1914.000000  1914.000000   \n",
       "mean                 0.230077     0.000642      0.013672     0.011674   \n",
       "std                  0.203409     0.010625      0.052177     0.034352   \n",
       "min                  0.000000     0.000000      0.000000     0.000000   \n",
       "25%                  0.062831     0.000000      0.001008     0.000523   \n",
       "50%                  0.180048     0.000000      0.003270     0.002619   \n",
       "75%                  0.346023     0.000000      0.007903     0.008571   \n",
       "max                  0.949090     0.326475      0.948303     0.560140   \n",
       "\n",
       "       Web-Applications  \n",
       "count       1914.000000  \n",
       "mean           0.566487  \n",
       "std            0.205019  \n",
       "min            0.000000  \n",
       "25%            0.423706  \n",
       "50%            0.577202  \n",
       "75%            0.719770  \n",
       "max            1.000000  \n",
       "\n",
       "[8 rows x 37 columns]"
      ]
     },
     "execution_count": 193,
     "metadata": {},
     "output_type": "execute_result"
    }
   ],
   "source": [
    "df.describe()"
   ]
  },
  {
   "cell_type": "markdown",
   "metadata": {},
   "source": [
    "In the following section we used \"Seaborn\" to visualize the attributes we thought were the most relevant for our analysis. We worked by dividing everything by each category."
   ]
  },
  {
   "cell_type": "markdown",
   "metadata": {},
   "source": [
    "## Number of Products"
   ]
  },
  {
   "cell_type": "markdown",
   "metadata": {},
   "source": [
    "First we plotted the number of users for each product:\n",
    "\n",
    "We noticed that product \"0\" is under represented in this dataset."
   ]
  },
  {
   "cell_type": "code",
   "execution_count": 194,
   "metadata": {
    "scrolled": false
   },
   "outputs": [
    {
     "data": {
      "text/plain": [
       "<matplotlib.axes._subplots.AxesSubplot at 0x1ba41269c50>"
      ]
     },
     "execution_count": 194,
     "metadata": {},
     "output_type": "execute_result"
    },
    {
     "data": {
      "image/png": "[encoded data removed]",
      "text/plain": [
       "<matplotlib.figure.Figure at 0x1ba3db06f28>"
      ]
     },
     "metadata": {},
     "output_type": "display_data"
    }
   ],
   "source": [
    "sns.distplot(list(df['Product']))"
   ]
  },
  {
   "cell_type": "markdown",
   "metadata": {},
   "source": [
    "# Customer Age"
   ]
  },
  {
   "cell_type": "markdown",
   "metadata": {},
   "source": [
    "Next we focused on plotting the distribution of Customer Age.\n",
    "\n",
    "The plot seems to suggest that the data follows a bell shaped distribution. Most of the customers age between 0.3 and 0.8 (in the rescaled values)."
   ]
  },
  {
   "cell_type": "code",
   "execution_count": 195,
   "metadata": {
    "scrolled": true
   },
   "outputs": [
    {
     "data": {
      "text/plain": [
       "<matplotlib.axes._subplots.AxesSubplot at 0x1ba3da8aa90>"
      ]
     },
     "execution_count": 195,
     "metadata": {},
     "output_type": "execute_result"
    },
    {
     "data": {
      "image/png": "[encoded data removed]",
      "text/plain": [
       "<matplotlib.figure.Figure at 0x1ba3dac9278>"
      ]
     },
     "metadata": {},
     "output_type": "display_data"
    }
   ],
   "source": [
    "sns.distplot(df['CustomerAge'])"
   ]
  },
  {
   "cell_type": "markdown",
   "metadata": {},
   "source": [
    "Here we wanted to plot the distribution of Customer Age for each product.\n",
    "\n",
    "Hence we first grouped Customer Ages by product:"
   ]
  },
  {
   "cell_type": "code",
   "execution_count": 196,
   "metadata": {},
   "outputs": [
    {
     "data": {
      "text/html": [
       "<div>\n",
       "<style scoped>\n",
       "    .dataframe tbody tr th:only-of-type {\n",
       "        vertical-align: middle;\n",
       "    }\n",
       "\n",
       "    .dataframe tbody tr th {\n",
       "        vertical-align: top;\n",
       "    }\n",
       "\n",
       "    .dataframe thead th {\n",
       "        text-align: right;\n",
       "    }\n",
       "</style>\n",
       "<table border=\"1\" class=\"dataframe\">\n",
       "  <thead>\n",
       "    <tr style=\"text-align: right;\">\n",
       "      <th></th>\n",
       "      <th>CustomerAge</th>\n",
       "      <th>Product</th>\n",
       "    </tr>\n",
       "  </thead>\n",
       "  <tbody>\n",
       "    <tr>\n",
       "      <th>0</th>\n",
       "      <td>0.176471</td>\n",
       "      <td>2.333333</td>\n",
       "    </tr>\n",
       "    <tr>\n",
       "      <th>1</th>\n",
       "      <td>0.294118</td>\n",
       "      <td>2.055762</td>\n",
       "    </tr>\n",
       "    <tr>\n",
       "      <th>6</th>\n",
       "      <td>0.764706</td>\n",
       "      <td>1.818681</td>\n",
       "    </tr>\n",
       "    <tr>\n",
       "      <th>2</th>\n",
       "      <td>0.411765</td>\n",
       "      <td>1.792105</td>\n",
       "    </tr>\n",
       "    <tr>\n",
       "      <th>5</th>\n",
       "      <td>0.647059</td>\n",
       "      <td>1.782396</td>\n",
       "    </tr>\n",
       "    <tr>\n",
       "      <th>8</th>\n",
       "      <td>1.000000</td>\n",
       "      <td>1.777778</td>\n",
       "    </tr>\n",
       "    <tr>\n",
       "      <th>4</th>\n",
       "      <td>0.529412</td>\n",
       "      <td>1.714542</td>\n",
       "    </tr>\n",
       "    <tr>\n",
       "      <th>7</th>\n",
       "      <td>0.882353</td>\n",
       "      <td>1.500000</td>\n",
       "    </tr>\n",
       "    <tr>\n",
       "      <th>3</th>\n",
       "      <td>0.524722</td>\n",
       "      <td>1.441176</td>\n",
       "    </tr>\n",
       "  </tbody>\n",
       "</table>\n",
       "</div>"
      ],
      "text/plain": [
       "   CustomerAge   Product\n",
       "0     0.176471  2.333333\n",
       "1     0.294118  2.055762\n",
       "6     0.764706  1.818681\n",
       "2     0.411765  1.792105\n",
       "5     0.647059  1.782396\n",
       "8     1.000000  1.777778\n",
       "4     0.529412  1.714542\n",
       "7     0.882353  1.500000\n",
       "3     0.524722  1.441176"
      ]
     },
     "execution_count": 196,
     "metadata": {},
     "output_type": "execute_result"
    }
   ],
   "source": [
    "df[['CustomerAge', 'Product']].groupby(['CustomerAge'], as_index=False).mean().sort_values(by='Product', ascending=False)"
   ]
  },
  {
   "cell_type": "markdown",
   "metadata": {},
   "source": [
    "We now plot the distribution of Customer Age for each one of the 4 products on separate graphs.\n",
    "\n",
    "Product 0 = V Camera\n",
    "\n",
    "Product 1 = V Bag\n",
    "\n",
    "Product 2 = V Auto\n",
    "\n",
    "Product 3 = V Pet\n",
    "\n",
    "The distributions are similar to the Customer Age distribution; we can see that every product has a higher concentration of customers centered around the range 0.45 and 0.65 (rescaled)."
   ]
  },
  {
   "cell_type": "code",
   "execution_count": 197,
   "metadata": {},
   "outputs": [
    {
     "data": {
      "text/plain": [
       "<seaborn.axisgrid.FacetGrid at 0x1ba40e6b208>"
      ]
     },
     "execution_count": 197,
     "metadata": {},
     "output_type": "execute_result"
    },
    {
     "data": {
      "image/png": "[encoded data removed]",
      "text/plain": [
       "<matplotlib.figure.Figure at 0x1ba40e6bfd0>"
      ]
     },
     "metadata": {},
     "output_type": "display_data"
    }
   ],
   "source": [
    "g = sns.FacetGrid(df, hue=\"Product\", col='Product')\n",
    "g.map(plt.hist, 'CustomerAge', bins=10)"
   ]
  },
  {
   "cell_type": "markdown",
   "metadata": {},
   "source": [
    "## Data ARPU"
   ]
  },
  {
   "cell_type": "markdown",
   "metadata": {},
   "source": [
    "In the following graph we plotted the ARPU (Average Revenue Per User) against the customer age; we can identify that users between age 0.4 and 0.8 have a higher ARPU than other customer age categories. <br>\n",
    "However, a correlation between DataArpu and the Products is not prominent from this chart."
   ]
  },
  {
   "cell_type": "code",
   "execution_count": 198,
   "metadata": {},
   "outputs": [
    {
     "data": {
      "text/plain": [
       "<seaborn.axisgrid.FacetGrid at 0x1ba3dac20f0>"
      ]
     },
     "execution_count": 198,
     "metadata": {},
     "output_type": "execute_result"
    },
    {
     "data": {
      "image/png": "[encoded data removed]",
      "text/plain": [
       "<matplotlib.figure.Figure at 0x1ba40e0d0f0>"
      ]
     },
     "metadata": {},
     "output_type": "display_data"
    }
   ],
   "source": [
    "sns.FacetGrid(df, hue=\"Product\", size=5) \\\n",
    "   .map(plt.scatter, \"DataArpu\", \"CustomerAge\") \\\n",
    "   .add_legend()"
   ]
  },
  {
   "cell_type": "markdown",
   "metadata": {},
   "source": [
    "## Customer Gender"
   ]
  },
  {
   "cell_type": "markdown",
   "metadata": {},
   "source": [
    "Here we wanted to focus on Customer Gender.\n",
    "\n",
    "Hence we grouped Customer Gender by product just as we have done for Customer Age."
   ]
  },
  {
   "cell_type": "code",
   "execution_count": 199,
   "metadata": {},
   "outputs": [
    {
     "data": {
      "text/html": [
       "<div>\n",
       "<style scoped>\n",
       "    .dataframe tbody tr th:only-of-type {\n",
       "        vertical-align: middle;\n",
       "    }\n",
       "\n",
       "    .dataframe tbody tr th {\n",
       "        vertical-align: top;\n",
       "    }\n",
       "\n",
       "    .dataframe thead th {\n",
       "        text-align: right;\n",
       "    }\n",
       "</style>\n",
       "<table border=\"1\" class=\"dataframe\">\n",
       "  <thead>\n",
       "    <tr style=\"text-align: right;\">\n",
       "      <th></th>\n",
       "      <th>CustomerGender</th>\n",
       "      <th>Product</th>\n",
       "    </tr>\n",
       "  </thead>\n",
       "  <tbody>\n",
       "    <tr>\n",
       "      <th>0</th>\n",
       "      <td>0.0</td>\n",
       "      <td>1.947627</td>\n",
       "    </tr>\n",
       "    <tr>\n",
       "      <th>1</th>\n",
       "      <td>1.0</td>\n",
       "      <td>1.722947</td>\n",
       "    </tr>\n",
       "  </tbody>\n",
       "</table>\n",
       "</div>"
      ],
      "text/plain": [
       "   CustomerGender   Product\n",
       "0             0.0  1.947627\n",
       "1             1.0  1.722947"
      ]
     },
     "execution_count": 199,
     "metadata": {},
     "output_type": "execute_result"
    }
   ],
   "source": [
    "df[['CustomerGender', 'Product']].groupby(['CustomerGender'], as_index=False).mean().sort_values(by='Product', ascending=False)"
   ]
  },
  {
   "cell_type": "markdown",
   "metadata": {},
   "source": [
    "Here we plotted the Customer Gender for every product.\n",
    "As we can see each product seems to have a higher prominence for Gender \"1.0\".\n",
    "\n",
    "Just as a reminder: \n",
    "\n",
    "Product 0 = V Camera\n",
    "\n",
    "Product 1 = V Bag\n",
    "\n",
    "Product 2 = V Auto\n",
    "\n",
    "Product 3 = V Pet"
   ]
  },
  {
   "cell_type": "code",
   "execution_count": 200,
   "metadata": {
    "scrolled": true
   },
   "outputs": [
    {
     "data": {
      "text/plain": [
       "<seaborn.axisgrid.FacetGrid at 0x1ba418eaa90>"
      ]
     },
     "execution_count": 200,
     "metadata": {},
     "output_type": "execute_result"
    },
    {
     "data": {
      "image/png": "[encoded data removed]",
      "text/plain": [
       "<matplotlib.figure.Figure at 0x1ba41074828>"
      ]
     },
     "metadata": {},
     "output_type": "display_data"
    }
   ],
   "source": [
    "g = sns.FacetGrid(df, col='Product')\n",
    "g.map(plt.hist, 'CustomerGender')"
   ]
  },
  {
   "cell_type": "markdown",
   "metadata": {},
   "source": [
    "## Data Allowance"
   ]
  },
  {
   "cell_type": "markdown",
   "metadata": {},
   "source": [
    "Here we wanted to analyze how Data Allowance was distributed among each product.\n",
    "\n",
    "For every product Data Allowance seems to be skewed, concentrated around the \"0.2\" level.\n",
    "\n",
    "Keep in mind that the DataAllowance column were rescaled between [0.0 - 1.0]"
   ]
  },
  {
   "cell_type": "code",
   "execution_count": 201,
   "metadata": {
    "scrolled": true
   },
   "outputs": [
    {
     "data": {
      "text/plain": [
       "<seaborn.axisgrid.FacetGrid at 0x1ba41431a58>"
      ]
     },
     "execution_count": 201,
     "metadata": {},
     "output_type": "execute_result"
    },
    {
     "data": {
      "image/png": "[encoded data removed]",
      "text/plain": [
       "<matplotlib.figure.Figure at 0x1ba41a38908>"
      ]
     },
     "metadata": {},
     "output_type": "display_data"
    }
   ],
   "source": [
    "g = sns.FacetGrid(df, col='Product')\n",
    "g.map(plt.hist, 'DataAllowance',bins = 100)"
   ]
  },
  {
   "cell_type": "markdown",
   "metadata": {},
   "source": [
    "## Zipcode Plotting"
   ]
  },
  {
   "cell_type": "markdown",
   "metadata": {},
   "source": [
    "In this part we focused on the geographical distribution of the zipcodes from the dataset. In particular we split the zipcodes by product in order to plot them on the Italian map, trying to infer any visual differences in concentration."
   ]
  },
  {
   "cell_type": "markdown",
   "metadata": {},
   "source": [
    "We imported the \"latlong\" CSV file that we found on the internet providing latitudes and longitudes corresponding to each Italian zipcode."
   ]
  },
  {
   "cell_type": "code",
   "execution_count": 202,
   "metadata": {},
   "outputs": [],
   "source": [
    "vod = pd.read_csv('latlong.csv', dtype='unicode')"
   ]
  },
  {
   "cell_type": "code",
   "execution_count": 203,
   "metadata": {
    "scrolled": true
   },
   "outputs": [
    {
     "data": {
      "text/html": [
       "<div>\n",
       "<style scoped>\n",
       "    .dataframe tbody tr th:only-of-type {\n",
       "        vertical-align: middle;\n",
       "    }\n",
       "\n",
       "    .dataframe tbody tr th {\n",
       "        vertical-align: top;\n",
       "    }\n",
       "\n",
       "    .dataframe thead th {\n",
       "        text-align: right;\n",
       "    }\n",
       "</style>\n",
       "<table border=\"1\" class=\"dataframe\">\n",
       "  <thead>\n",
       "    <tr style=\"text-align: right;\">\n",
       "      <th></th>\n",
       "      <th>Unnamed: 0</th>\n",
       "      <th>Category</th>\n",
       "      <th>ZipCode</th>\n",
       "      <th>Latitude</th>\n",
       "      <th>Longitude</th>\n",
       "    </tr>\n",
       "  </thead>\n",
       "  <tbody>\n",
       "    <tr>\n",
       "      <th>0</th>\n",
       "      <td>0</td>\n",
       "      <td>V-Camera</td>\n",
       "      <td>20010</td>\n",
       "      <td>45.5365</td>\n",
       "      <td>8.9894</td>\n",
       "    </tr>\n",
       "    <tr>\n",
       "      <th>1</th>\n",
       "      <td>1</td>\n",
       "      <td>V-Camera</td>\n",
       "      <td>73048</td>\n",
       "      <td>40.1759</td>\n",
       "      <td>18.0304</td>\n",
       "    </tr>\n",
       "    <tr>\n",
       "      <th>2</th>\n",
       "      <td>2</td>\n",
       "      <td>V-Camera</td>\n",
       "      <td>09134</td>\n",
       "      <td>39.2461</td>\n",
       "      <td>9.1278</td>\n",
       "    </tr>\n",
       "    <tr>\n",
       "      <th>3</th>\n",
       "      <td>3</td>\n",
       "      <td>V-Camera</td>\n",
       "      <td>34142</td>\n",
       "      <td>45.6486</td>\n",
       "      <td>13.78</td>\n",
       "    </tr>\n",
       "    <tr>\n",
       "      <th>4</th>\n",
       "      <td>4</td>\n",
       "      <td>V-Camera</td>\n",
       "      <td>32030</td>\n",
       "      <td>46.0891</td>\n",
       "      <td>11.9877</td>\n",
       "    </tr>\n",
       "  </tbody>\n",
       "</table>\n",
       "</div>"
      ],
      "text/plain": [
       "  Unnamed: 0  Category ZipCode Latitude Longitude\n",
       "0          0  V-Camera   20010  45.5365    8.9894\n",
       "1          1  V-Camera   73048  40.1759   18.0304\n",
       "2          2  V-Camera   09134  39.2461    9.1278\n",
       "3          3  V-Camera   34142  45.6486     13.78\n",
       "4          4  V-Camera   32030  46.0891   11.9877"
      ]
     },
     "execution_count": 203,
     "metadata": {},
     "output_type": "execute_result"
    }
   ],
   "source": [
    "vod.head()"
   ]
  },
  {
   "cell_type": "markdown",
   "metadata": {},
   "source": [
    "__\"makefloat\"__ Converts the values of the dataframe from string to float in order to plot them."
   ]
  },
  {
   "cell_type": "code",
   "execution_count": 204,
   "metadata": {},
   "outputs": [],
   "source": [
    "def makefloat(vod, k):\n",
    "    vod[k] = vod[k].astype(float)"
   ]
  },
  {
   "cell_type": "code",
   "execution_count": 205,
   "metadata": {},
   "outputs": [],
   "source": [
    "makefloat(vod, 'Longitude')\n",
    "makefloat(vod, 'Latitude')"
   ]
  },
  {
   "cell_type": "markdown",
   "metadata": {},
   "source": [
    "We have 106 V-Camera users, 587 V-bag users, 354 V-Auto users and 528 V-Pet users."
   ]
  },
  {
   "cell_type": "code",
   "execution_count": 206,
   "metadata": {},
   "outputs": [],
   "source": [
    "v_cam = vod[0:106]\n",
    "v_bag = vod[107:693]\n",
    "v_auto = vod[693: 1047]\n",
    "v_pet = vod[1047:]"
   ]
  },
  {
   "cell_type": "markdown",
   "metadata": {},
   "source": [
    "We decided to plot all the Zipcodes of the dataset. We can clearly see a concentration in the North of Italy and in the most important cities of the Southern part of the country, such as Rome and Naples, as we would expect."
   ]
  },
  {
   "cell_type": "code",
   "execution_count": 207,
   "metadata": {},
   "outputs": [
    {
     "data": {
      "image/png": "[encoded data removed]",
      "text/plain": [
       "<matplotlib.figure.Figure at 0x1ba411e5828>"
      ]
     },
     "metadata": {},
     "output_type": "display_data"
    }
   ],
   "source": [
    "ax = v_cam.plot(kind='scatter', x='Longitude', y='Latitude', alpha=20/256, s=20, figsize=(10,10))\n",
    "ax = v_bag.plot(kind='scatter', x='Longitude', y='Latitude', alpha=20/256, s=20, figsize=(10,10), ax=ax, color = 'red')\n",
    "ax = v_auto.plot(kind='scatter', x='Longitude', y='Latitude', alpha=20/256, s=20, figsize=(10,10), ax=ax, color = 'green')\n",
    "ax = v_pet.plot(kind='scatter', x='Longitude', y='Latitude', alpha=20/256, s=20, figsize=(8,10), ax=ax, color = 'purple')"
   ]
  },
  {
   "cell_type": "markdown",
   "metadata": {},
   "source": [
    "We then focused on the geographical distribution of the individual products. By looking at these plots, it is clear that each product has a similar distribution: higher concentration in the North of Italy and in the important cities of the Southern part."
   ]
  },
  {
   "cell_type": "code",
   "execution_count": 208,
   "metadata": {},
   "outputs": [
    {
     "data": {
      "text/plain": [
       "<matplotlib.axes._subplots.AxesSubplot at 0x1ba411d6fd0>"
      ]
     },
     "execution_count": 208,
     "metadata": {},
     "output_type": "execute_result"
    },
    {
     "data": {
      "image/png": "[encoded data removed]",
      "text/plain": [
       "<matplotlib.figure.Figure at 0x1ba411d6358>"
      ]
     },
     "metadata": {},
     "output_type": "display_data"
    }
   ],
   "source": [
    "v_cam.plot(kind='scatter', x='Longitude', y='Latitude', alpha=20/256, s=20, figsize=(8,10))"
   ]
  },
  {
   "cell_type": "code",
   "execution_count": 209,
   "metadata": {},
   "outputs": [
    {
     "data": {
      "text/plain": [
       "<matplotlib.axes._subplots.AxesSubplot at 0x1ba411d6e80>"
      ]
     },
     "execution_count": 209,
     "metadata": {},
     "output_type": "execute_result"
    },
    {
     "data": {
      "image/png": "[encoded data removed]",
      "text/plain": [
       "<matplotlib.figure.Figure at 0x1ba411d4d30>"
      ]
     },
     "metadata": {},
     "output_type": "display_data"
    }
   ],
   "source": [
    "v_bag.plot(kind='scatter', x='Longitude', y='Latitude', alpha=20/256, s=20, figsize=(8,10), color = 'red')"
   ]
  },
  {
   "cell_type": "code",
   "execution_count": 210,
   "metadata": {
    "scrolled": false
   },
   "outputs": [
    {
     "data": {
      "text/plain": [
       "<matplotlib.axes._subplots.AxesSubplot at 0x1ba412d7c50>"
      ]
     },
     "execution_count": 210,
     "metadata": {},
     "output_type": "execute_result"
    },
    {
     "data": {
      "image/png": "[encoded data removed]",
      "text/plain": [
       "<matplotlib.figure.Figure at 0x1ba411e54a8>"
      ]
     },
     "metadata": {},
     "output_type": "display_data"
    }
   ],
   "source": [
    "v_auto.plot(kind='scatter', x='Longitude', y='Latitude', alpha=20/256, s=20, figsize=(8,10), color = 'green')"
   ]
  },
  {
   "cell_type": "code",
   "execution_count": 211,
   "metadata": {
    "scrolled": false
   },
   "outputs": [
    {
     "data": {
      "text/plain": [
       "<matplotlib.axes._subplots.AxesSubplot at 0x1ba41332518>"
      ]
     },
     "execution_count": 211,
     "metadata": {},
     "output_type": "execute_result"
    },
    {
     "data": {
      "image/png": "[encoded data removed]",
      "text/plain": [
       "<matplotlib.figure.Figure at 0x1ba41304438>"
      ]
     },
     "metadata": {},
     "output_type": "display_data"
    }
   ],
   "source": [
    "v_pet.plot(kind='scatter', x='Longitude', y='Latitude', alpha=20/256, s=20, figsize=(8,10), color = 'purple')"
   ]
  },
  {
   "cell_type": "markdown",
   "metadata": {},
   "source": [
    "As we can see from these plots the products are sold following a similar pattern."
   ]
  },
  {
   "cell_type": "markdown",
   "metadata": {},
   "source": [
    "# 3. CLUSTERING & LEARNING "
   ]
  },
  {
   "cell_type": "markdown",
   "metadata": {},
   "source": [
    "## Data Preparation"
   ]
  },
  {
   "cell_type": "markdown",
   "metadata": {
    "collapsed": true
   },
   "source": [
    "We start by spliting the dataset in the test set (10%) and training set (90%)."
   ]
  },
  {
   "cell_type": "code",
   "execution_count": 212,
   "metadata": {},
   "outputs": [],
   "source": [
    "t=0.9 \n",
    "keep=['CustomerAge', 'CustomerGender', 'CustomerImmigrant', 'DataAllowance', 'DataArpu', 'DeviceFlag4G',\n",
    "     'DeviceFlagSmartphone', 'iOS', 'Android', 'Other OS', 'Gdp', 'Shops', 'Urban', 'SemiUrban', 'Rural',\n",
    "     'NorthEast', 'NorthWest', 'Center', 'South', 'Islands',\n",
    "     'File-Transfer', 'Games', 'Instant-Messaging-Applications', 'Mail', 'MonthlyDataTraffic',\n",
    "     'MonthlySmsTrafficCount', 'MonthlyVoiceTrafficCount', 'Music-Streaming', 'Network-Operation', 'P2P-Applications',\n",
    "     'Security', 'Streaming-Applications', 'Terminals', 'Unclassified', 'VoIP', 'Web-Applications']\n",
    "\n",
    "#df = pd.read_csv(path)\n",
    "df = df[keep]\n",
    "X = df.as_matrix().astype(float)\n",
    "\n",
    "np.random.seed(100)\n",
    "perm = np.random.permutation(Y.shape[0])\n",
    "X, Y = X[perm], Y[perm]\n",
    "\n",
    "t = int(Y.shape[0]*t)\n",
    "X_train, X_test = X[:t], X[t:]\n",
    "Y_train, Y_test = Y[:t], Y[t:]"
   ]
  },
  {
   "cell_type": "markdown",
   "metadata": {},
   "source": [
    "These two functions convert a one hot vector into a numerical single value vector. <br>\n",
    "The __\"get_Y\"__ function of the cleaning part returns a one hot vector. Depending on the usage, we might need to convert the Ys back and forth between one hot and single representation."
   ]
  },
  {
   "cell_type": "code",
   "execution_count": 213,
   "metadata": {},
   "outputs": [],
   "source": [
    "def single_to_onehot(y):\n",
    "    try: \n",
    "        if(y.shape[1]>1): return Y\n",
    "    except: pass\n",
    "    Y = np.zeros((y.shape[0], 4))\n",
    "    Y[np.arange(y.shape[0]), y.flatten()] = 1\n",
    "    return Y\n",
    "\n",
    "def onehot_to_single(Y):\n",
    "    try: \n",
    "        if(Y.shape[1]==1): return Y\n",
    "    except: return Y\n",
    "    if(Y.shape[1]>0): Y = np.argmax(Y, axis=1).ravel()\n",
    "    return Y"
   ]
  },
  {
   "cell_type": "markdown",
   "metadata": {},
   "source": [
    "We convert the Ys from one hot representation to single value representation."
   ]
  },
  {
   "cell_type": "code",
   "execution_count": 214,
   "metadata": {},
   "outputs": [],
   "source": [
    "Y_train, Y_test = onehot_to_single(Y_train), onehot_to_single(Y_test)"
   ]
  },
  {
   "cell_type": "markdown",
   "metadata": {},
   "source": [
    "__\"get_error_stats\"__ is an auxiliary function defined to give a better overview of our accuracy and performance of the algorithm. <br>\n",
    "It outputs:\n",
    "- A 4x4 grid stating the percentage of each catgeory predicted against the true category.\n",
    "- The accuracy on each category. \n",
    "- The real and predicted proportions of the categories so that we can see if our algorithm is biased towards a category or another.\n",
    "- Overall Accuracy.\n",
    "\n",
    "It provides a more informative output compared to the simple __\"score\"__ function of the machine learning libraries."
   ]
  },
  {
   "cell_type": "code",
   "execution_count": 215,
   "metadata": {},
   "outputs": [],
   "source": [
    "def get_error_stats(P, Y, show = True):\n",
    "    try:\n",
    "        if(Y.shape[1]!=1): Y , P = onehot_to_single(Y), onehot_to_single(P)\n",
    "    except:pass\n",
    "    Y, P = Y.ravel(), P.ravel()\n",
    "    correct = np.argwhere(P == Y)\n",
    "\n",
    "    acc = correct.shape[0] / P.shape[0]\n",
    "    acc = int(acc * 10000) / 10000\n",
    "\n",
    "    if(show):\n",
    "        comp = np.zeros((4,4))\n",
    "        total = np.zeros((4,1))\n",
    "\n",
    "        for i in range(Y.shape[0]):\n",
    "            comp[int(P[i]),int(Y[i])] = comp[int(P[i]),int(Y[i])] + 1\n",
    "            total[int(Y[i]),0] = total[int(Y[i]),0] + 1\n",
    "        guessed_prop = (np.sum(comp, axis=1) / np.sum(comp) * 1000).astype(int) / 1000\n",
    "        real_prop = (np.sum(comp, axis=0) / np.sum(comp) * 1000).astype(int) / 1000\n",
    "        comp = comp / total\n",
    "        comp = (comp*100).astype(int)/100\n",
    "        print(\"---------------------------\")\n",
    "        print(\"      Correct Answer      \")\n",
    "        print(\"    0     1     2     3   \")\n",
    "        print(\"---------------------------\")\n",
    "        print(comp)\n",
    "        print(\"---------------------------\")\n",
    "        print(\"Correctly Guessed:\", [int(comp[i,i]*100)/100 for i in range(4)])\n",
    "        print(\"Guessed Propotion:\", guessed_prop)\n",
    "        print(\"Actual Propotion: \", real_prop)\n",
    "\n",
    "        print(\"Overall Accuracy:\",acc)\n",
    "        print(\"\\n\")\n",
    "\n",
    "    return acc\n"
   ]
  },
  {
   "cell_type": "markdown",
   "metadata": {},
   "source": [
    "Like we already saw in the visualization part, the categories are unbalanced: the proportions are respectively about 8%, 33%, 25%, 33%. <br>\n",
    "\n",
    "It might be worth balancing the data in order to avoid ignoring the underepresented categories. The function __\"balance\"__ takes an optional parameter, \"aim\", which is a list of 4 elements of the final desired proportions. Each element corresponds to a category. <br>\n",
    "\n",
    "If \"aim\" is not provided, the proportions are set equal by default."
   ]
  },
  {
   "cell_type": "code",
   "execution_count": 216,
   "metadata": {},
   "outputs": [],
   "source": [
    "def balance(X,Y, aim = None):\n",
    "    Y = Y.ravel().reshape(-1,1)\n",
    "    Yt = Y.ravel()\n",
    "    c = Counter(Yt.flatten().tolist())\n",
    "    if(aim==None):\n",
    "        m = c.most_common(1)[0][1]\n",
    "        aim = [m,m,m,m]\n",
    "        \n",
    "    print('UNBALANCED DATASET:', dict(c))\n",
    "\n",
    "    Xt = [X[np.argwhere(Yt==0).ravel()], X[np.argwhere(Yt==1).ravel()], X[np.argwhere(Yt==2).ravel()], X[np.argwhere(Yt==3).ravel()]]\n",
    "    Yt = [Y[np.argwhere(Yt==0).ravel()], Y[np.argwhere(Yt==1).ravel()], Y[np.argwhere(Yt==2).ravel()], Y[np.argwhere(Yt==3).ravel()]]\n",
    "    \n",
    "    prop = [Xt[0].shape[0], Xt[1].shape[0], Xt[2].shape[0], Xt[3].shape[0]]\n",
    "    print(\"Prop:\", prop)\n",
    "    print(\"Aim: \", aim)\n",
    "    x, y = [], []\n",
    "\n",
    "    for i in range(4):\n",
    "        needed = int(aim[i]/prop[i])\n",
    "        for _ in range(int(needed)):\n",
    "            x.append(Xt[i])\n",
    "            y.append(Yt[i])\n",
    "\n",
    "        extra_needed = aim[i]%(prop[i]*needed)\n",
    "        p = np.random.permutation(prop[i])[:extra_needed]\n",
    "        x.append(Xt[i][p])\n",
    "        y.append(Yt[i][p])\n",
    "\n",
    "    X = np.vstack(x)\n",
    "    Y = np.vstack(y)\n",
    "    c = Counter(Y.flatten().tolist())\n",
    "    print('BALANCED DATASET:', dict(c) ,\"\\n\")\n",
    "\n",
    "    return X, Y"
   ]
  },
  {
   "cell_type": "markdown",
   "metadata": {},
   "source": [
    "## PCA"
   ]
  },
  {
   "cell_type": "markdown",
   "metadata": {},
   "source": [
    "We first decided to run PCA.\n",
    "\n",
    "As we can see, PCA is not really helpful for dimensionality reduction: the most important component only explains about 16% of the variance. \n",
    "We ran several tests with and without PCA and concluded that it wasn't useful. Thus we decided to proceed without principle component analysis."
   ]
  },
  {
   "cell_type": "code",
   "execution_count": 217,
   "metadata": {
    "scrolled": true
   },
   "outputs": [
    {
     "data": {
      "text/plain": [
       "[<matplotlib.lines.Line2D at 0x1ba414b6128>]"
      ]
     },
     "execution_count": 217,
     "metadata": {},
     "output_type": "execute_result"
    },
    {
     "data": {
      "image/png": "[encoded data removed]",
      "text/plain": [
       "<matplotlib.figure.Figure at 0x1ba40d84748>"
      ]
     },
     "metadata": {},
     "output_type": "display_data"
    }
   ],
   "source": [
    "pca = PCA(n_components = 0.95)\n",
    "pca.fit(X_train)\n",
    "plt.plot(pca.explained_variance_ratio_)"
   ]
  },
  {
   "cell_type": "markdown",
   "metadata": {},
   "source": [
    "## KNearestNeighbors"
   ]
  },
  {
   "cell_type": "markdown",
   "metadata": {},
   "source": [
    "We now start the learning. <br>\n",
    "\n",
    "We first implemented KNearestNeighbors algorithm with scikitlearn."
   ]
  },
  {
   "cell_type": "code",
   "execution_count": 218,
   "metadata": {},
   "outputs": [
    {
     "name": "stdout",
     "output_type": "stream",
     "text": [
      "---------------------------\n",
      "      Correct Answer      \n",
      "    0     1     2     3   \n",
      "---------------------------\n",
      "[[0.25 0.06 0.11 0.11]\n",
      " [0.09 0.72 0.23 0.3 ]\n",
      " [0.05 0.15 0.48 0.16]\n",
      " [0.05 0.18 0.06 0.51]]\n",
      "---------------------------\n",
      "Correctly Guessed: [0.25, 0.72, 0.48, 0.51]\n",
      "Guessed Propotion: [0.045 0.494 0.193 0.265]\n",
      "Actual Propotion:  [0.083 0.365 0.224 0.325]\n",
      "Overall Accuracy: 0.565\n",
      "\n",
      "\n",
      "---------------------------\n",
      "      Correct Answer      \n",
      "    0     1     2     3   \n",
      "---------------------------\n",
      "[[0.   0.27 0.09 0.  ]\n",
      " [0.07 0.5  0.3  0.4 ]\n",
      " [0.06 0.37 0.3  0.3 ]\n",
      " [0.03 0.3  0.09 0.29]]\n",
      "---------------------------\n",
      "Correctly Guessed: [0.0, 0.5, 0.3, 0.28]\n",
      "Guessed Propotion: [0.02  0.51  0.234 0.234]\n",
      "Actual Propotion:  [0.057 0.395 0.223 0.322]\n",
      "Overall Accuracy: 0.3593\n",
      "\n",
      "\n",
      "Train Accuracy:  0.565\n",
      "Test Accuracy:  0.3593\n"
     ]
    }
   ],
   "source": [
    "knn = KNeighborsClassifier()\n",
    "knn.fit(X_train, Y_train)\n",
    "\n",
    "P_train, P_test = knn.predict(X_train), knn.predict(X_test)\n",
    "tr_acc = get_error_stats(P_train, Y_train)\n",
    "te_acc = get_error_stats(P_test, Y_test, show = True)\n",
    "\n",
    "print(\"Train Accuracy: \", tr_acc)\n",
    "print(\"Test Accuracy: \", te_acc)"
   ]
  },
  {
   "cell_type": "markdown",
   "metadata": {},
   "source": [
    "The first try is unsurprisingly not a success. It is probably due to the fact that we assumed all features to be equally important. <br>\n",
    "- We implemented simulated annealing to get the optimal weights in order to maximize accuracy. \n",
    "- We intitialized the ratios to ones (all features equally important). \n",
    "- We generated a 36 dimensional random step. A step corresponds to an increase / decrease in individual weight of 20%, or keeping it unchanged. \n",
    "- We then decide whether or not to keep the step using the standard simulated annealing approach. \n",
    "In the present code we iterated 10 times due to time contraints, but we actually ran it about 50,000 times, storing the weights in a seperate file __(weights.npy)__"
   ]
  },
  {
   "cell_type": "code",
   "execution_count": 219,
   "metadata": {},
   "outputs": [
    {
     "name": "stdout",
     "output_type": "stream",
     "text": [
      "0: 0.565 0.3593\n",
      "2: 0.5528 0.3541\n"
     ]
    }
   ],
   "source": [
    "def find_wieghts():\n",
    "    n = X_train.shape[1]\n",
    "    i=0\n",
    "    temprature=0.9\n",
    "    max_acc = 0\n",
    "    ratios = np.ones(n)\n",
    "    possible_steps = [0.8,1,1.2]\n",
    "\n",
    "    for i in range(10):\n",
    "\n",
    "         step = np.ones((1, n))\n",
    "         #step[0, np.random.randint(low=0, high=n)] = np.random.choice(possible_steps)#.reshape(1,-1)\n",
    "         step = np.random.choice(possible_steps,n).reshape((1,n))\n",
    "         r = ratios*step\n",
    "\n",
    "         X_tra = X_train*ratios\n",
    "         X_tes = X_test*ratios\n",
    "\n",
    "         knn = KNeighborsClassifier(n_neighbors=5,)\n",
    "         knn.fit(X_tra, Y_train)\n",
    "         te_acc = get_error_stats(knn.predict(X_tes) ,Y_test, show=False)\n",
    "         tr_acc = get_error_stats(knn.predict(X_tra) ,Y_train, show=False)\n",
    "\n",
    "         ran = np.random.random()+(te_acc-max_acc)*2\n",
    "         if(te_acc>max_acc or ran>temprature):\n",
    "            ratios = r\n",
    "            max_acc = te_acc\n",
    "            print(str(i)+\":\",tr_acc , te_acc)\n",
    "\n",
    "         if(i%10==0):\n",
    "             if(temprature<0.95): temprature=temprature+0.01\n",
    "\n",
    "    return r\n",
    "\n",
    "r = find_wieghts()"
   ]
  },
  {
   "cell_type": "markdown",
   "metadata": {},
   "source": [
    "We load the \"weights\" file"
   ]
  },
  {
   "cell_type": "code",
   "execution_count": 220,
   "metadata": {},
   "outputs": [
    {
     "name": "stdout",
     "output_type": "stream",
     "text": [
      "[[0.52183853 1.62312655 0.692534   1.94775186 0.2226511  0.52183853\n",
      "  0.90173697 0.83104079 0.41747082 0.86566749 0.90173697 0.26718133\n",
      "  1.03880099 0.48092639 0.29548117 1.62312655 1.69075683 0.75144748\n",
      "  0.50096499 1.62312655 1.12717122 0.83104079 0.72138958 0.27831388\n",
      "  0.5540272  1.35260546 1.76120503 0.62620623 0.72138958 3.17016905\n",
      "  1.35260546 1.08208437 1.76120503 0.90173697 0.93930935 0.8153727 ]]\n"
     ]
    }
   ],
   "source": [
    "weights = np.load(\"weights.npy\")\n",
    "print(weights)"
   ]
  },
  {
   "cell_type": "markdown",
   "metadata": {},
   "source": [
    "We ran KNearestNeighbors again after applying the custom weights from the \"weights.npy\" file with the number of neighbors equal to 5"
   ]
  },
  {
   "cell_type": "code",
   "execution_count": 221,
   "metadata": {
    "scrolled": false
   },
   "outputs": [
    {
     "name": "stdout",
     "output_type": "stream",
     "text": [
      "---------------------------\n",
      "      Correct Answer      \n",
      "    0     1     2     3   \n",
      "---------------------------\n",
      "[[0.29 0.12 0.09 0.13]\n",
      " [0.09 0.72 0.23 0.29]\n",
      " [0.05 0.17 0.49 0.23]\n",
      " [0.03 0.15 0.06 0.47]]\n",
      "---------------------------\n",
      "Correctly Guessed: [0.28, 0.72, 0.49, 0.47]\n",
      "Guessed Propotion: [0.054 0.491 0.216 0.238]\n",
      "Actual Propotion:  [0.083 0.365 0.224 0.325]\n",
      "Overall Accuracy: 0.5563\n",
      "\n",
      "\n",
      "---------------------------\n",
      "      Correct Answer      \n",
      "    0     1     2     3   \n",
      "---------------------------\n",
      "[[0.09 0.18 0.27 0.  ]\n",
      " [0.05 0.51 0.27 0.43]\n",
      " [0.11 0.34 0.34 0.25]\n",
      " [0.01 0.32 0.06 0.29]]\n",
      "---------------------------\n",
      "Correctly Guessed: [0.09, 0.51, 0.34, 0.28]\n",
      "Guessed Propotion: [0.031 0.505 0.239 0.223]\n",
      "Actual Propotion:  [0.057 0.395 0.223 0.322]\n",
      "Overall Accuracy: 0.3802\n",
      "\n",
      "\n",
      "Train Accuracy:  0.5563\n",
      "Test Accuracy:  0.3802\n"
     ]
    }
   ],
   "source": [
    "X_tr = X_train*weights\n",
    "X_te = X_test*weights\n",
    "\n",
    "knn = KNeighborsClassifier(n_neighbors=5)\n",
    "knn.fit(X_tr, Y_train)\n",
    "\n",
    "P_train, P_test = knn.predict(X_tr), knn.predict(X_te)\n",
    "tr_acc = get_error_stats(P_train, Y_train)\n",
    "te_acc = get_error_stats(P_test, Y_test, show = True)\n",
    "\n",
    "print(\"Train Accuracy: \", tr_acc)\n",
    "print(\"Test Accuracy: \", te_acc)"
   ]
  },
  {
   "cell_type": "markdown",
   "metadata": {},
   "source": [
    "## K-Means"
   ]
  },
  {
   "cell_type": "markdown",
   "metadata": {},
   "source": [
    "A small increase in accuracy is observed. This however is not enough. Based on our experimentation, this approach is helpful but sometimes too volatile. <br>\n",
    "We now have a better idea about the actual importance of the features. Perhaps we could implement KMeans for clustering and find a projection of the clusters onto the four categories. First we write a fucntion that projects the clusters onto our categories."
   ]
  },
  {
   "cell_type": "markdown",
   "metadata": {},
   "source": [
    "The function __\"projection\"__ finds the most prominent category in each cluster. It then assigns the categories to the corresponding cluster. \n",
    "\n",
    "For example if the category 0 is the most prominent in cluster 13, we project cluster 13 onto category 0.\n",
    "\n",
    "The function returns a list of length equal to the number of clusters with the projections (the first element of the list is the category assigned to the first cluster)."
   ]
  },
  {
   "cell_type": "code",
   "execution_count": 222,
   "metadata": {},
   "outputs": [],
   "source": [
    "def projection(X_train, Y_train, km, n):\n",
    "    projection = [0 for _ in range(n)]\n",
    "    P = km.predict(X_train).ravel()\n",
    "    for i in range(n):\n",
    "        Y = list(Y_train[np.argwhere(P==i)].ravel())\n",
    "        try:    m = Counter(Y).most_common(1)[0][0]\n",
    "        except: m = 10\n",
    "        projection[i] = m\n",
    "\n",
    "    return projection"
   ]
  },
  {
   "cell_type": "markdown",
   "metadata": {},
   "source": [
    "The function __\"predict\"__ predicts one cluster for each data point and then maps it to the category using the projection list.  \n",
    "\n",
    "Continuing our previous example, this means every time the algorithm predicts cluster 13, the raw prediction gets mapped to category 0 and so on."
   ]
  },
  {
   "cell_type": "code",
   "execution_count": 223,
   "metadata": {},
   "outputs": [],
   "source": [
    "def predict(X, projections, km):\n",
    "    p = km.predict(X).ravel()\n",
    "    for i in range(len(p)):\n",
    "        p[i] = projections[p[i]]\n",
    "    return p"
   ]
  },
  {
   "cell_type": "markdown",
   "metadata": {},
   "source": [
    "This next section proves that 25 is the optimal number of clusters. The outcome is different every time that the code is run, but the number that consistently performs best is 25."
   ]
  },
  {
   "cell_type": "code",
   "execution_count": 224,
   "metadata": {},
   "outputs": [
    {
     "name": "stdout",
     "output_type": "stream",
     "text": [
      "Ideal number of Clusters: 45\n"
     ]
    },
    {
     "data": {
      "image/png": "[encoded data removed]",
      "text/plain": [
       "<matplotlib.figure.Figure at 0x1ba414fc358>"
      ]
     },
     "metadata": {},
     "output_type": "display_data"
    }
   ],
   "source": [
    "X_tr = X_train*weights\n",
    "X_te = X_test*weights\n",
    "\n",
    "c = [n for n in range(5,50,5)]\n",
    "te_accs = []\n",
    "for n in c:\n",
    "    np.random.seed(10)\n",
    "    km = KMeans(n_clusters = n)\n",
    "    km.fit(X_tr)\n",
    "\n",
    "    projections = projection(X_tr, Y_train, km, n)\n",
    "\n",
    "    [P_train] = predict(X_tr, projections, km),\n",
    "    P_test = predict(X_te, projections, km)\n",
    "\n",
    "    tr_acc = get_error_stats(P_train, Y_train, show = False)\n",
    "    te_acc = get_error_stats(P_test, Y_test, show = False)\n",
    "    \n",
    "    te_accs.append(te_acc)\n",
    "\n",
    "plt.plot(c, te_accs, label = \"Test Accuracy\")\n",
    "plt.legend()\n",
    "ideal_n = c[np.argmax(te_accs)]\n",
    "print(\"Ideal number of Clusters:\",ideal_n)"
   ]
  },
  {
   "cell_type": "markdown",
   "metadata": {},
   "source": [
    "Now that we have the appropriate auxilary function, we can implement the K-Means algorithm. \n",
    "\n",
    "We set the number of cluster to 25 as we found that it maximizes the performance of the algorithm."
   ]
  },
  {
   "cell_type": "code",
   "execution_count": 225,
   "metadata": {},
   "outputs": [
    {
     "name": "stdout",
     "output_type": "stream",
     "text": [
      "The projections are:  [1, 1, 2, 3, 1, 1, 3, 1, 1, 2, 3, 1, 2, 1, 1, 3, 2, 3, 1, 2, 1, 1, 1, 3, 3] \n",
      "\n",
      "---------------------------\n",
      "      Correct Answer      \n",
      "    0     1     2     3   \n",
      "---------------------------\n",
      "[[0.   0.   0.   0.  ]\n",
      " [0.12 0.55 0.3  0.41]\n",
      " [0.06 0.29 0.36 0.19]\n",
      " [0.07 0.29 0.09 0.4 ]]\n",
      "---------------------------\n",
      "Correctly Guessed: [0.0, 0.55, 0.36, 0.4]\n",
      "Guessed Propotion: [0.    0.51  0.208 0.281]\n",
      "Actual Propotion:  [0.083 0.365 0.224 0.325]\n",
      "Overall Accuracy: 0.4186\n",
      "\n",
      "\n",
      "---------------------------\n",
      "      Correct Answer      \n",
      "    0     1     2     3   \n",
      "---------------------------\n",
      "[[0.   0.   0.   0.  ]\n",
      " [0.05 0.46 0.3  0.39]\n",
      " [0.09 0.37 0.27 0.06]\n",
      " [0.04 0.4  0.12 0.46]]\n",
      "---------------------------\n",
      "Correctly Guessed: [0.0, 0.46, 0.27, 0.46]\n",
      "Guessed Propotion: [0.    0.479 0.182 0.338]\n",
      "Actual Propotion:  [0.057 0.395 0.223 0.322]\n",
      "Overall Accuracy: 0.3958\n",
      "\n",
      "\n",
      "Train Accuracy:  0.4186\n",
      "Test Accuracy:  0.3958\n"
     ]
    }
   ],
   "source": [
    "X_tr = X_train*weights\n",
    "X_te = X_test*weights\n",
    "\n",
    "np.random.seed(10)\n",
    "n = 25\n",
    "km = KMeans(n_clusters = n)\n",
    "km.fit(X_tr)\n",
    "\n",
    "projections = projection(X_tr, Y_train, km, n)\n",
    "print(\"The projections are: \",projections,\"\\n\")\n",
    "\n",
    "[P_train] = predict(X_tr, projections, km),\n",
    "P_test = predict(X_te, projections, km)\n",
    "\n",
    "tr_acc = get_error_stats(P_train, Y_train, show = True)\n",
    "te_acc = get_error_stats(P_test, Y_test, show = True)\n",
    "\n",
    "print(\"Train Accuracy: \", tr_acc)\n",
    "print(\"Test Accuracy: \", te_acc)\n"
   ]
  },
  {
   "cell_type": "markdown",
   "metadata": {},
   "source": [
    "We would like to view how well the clusters fit our data. \n",
    "\n",
    "The function __\"visualize_proportions\"__ prints the proportions of each category in each cluster.\n",
    "\n",
    "Ideally we would want to have clusters comprising just one category. That is,  we want the proportion of one category to be 1.0 and  the proportions of the rest be zero.  "
   ]
  },
  {
   "cell_type": "code",
   "execution_count": 226,
   "metadata": {},
   "outputs": [],
   "source": [
    "def visualize_proportions(X_train, Y_train, km, n):\n",
    "    projection = [0 for _ in range(n)]\n",
    "    P = km.predict(X_train).ravel()\n",
    "    print(\"Category:     1    2    3    4 \")\n",
    "    print(\"---------------------------------\")\n",
    "    for i in range(n):\n",
    "        Y = list(Y_train[np.argwhere(P==i)].ravel())\n",
    "        c = Counter(Y)\n",
    "        total = c[0]+c[1]+c[2]+c[3]\n",
    "        print(\"Cluster\",str(i)+\": \",round(c[0]/total,2), round(c[1]/total,2), round(c[2]/total,2), round(c[3]/total,2))"
   ]
  },
  {
   "cell_type": "code",
   "execution_count": 227,
   "metadata": {},
   "outputs": [
    {
     "name": "stdout",
     "output_type": "stream",
     "text": [
      "Category:     1    2    3    4 \n",
      "---------------------------------\n",
      "Cluster 0:  0.07 0.43 0.29 0.21\n",
      "Cluster 1:  0.08 0.36 0.27 0.3\n",
      "Cluster 2:  0.11 0.29 0.39 0.2\n",
      "Cluster 3:  0.07 0.33 0.07 0.53\n",
      "Cluster 4:  0.03 0.41 0.22 0.34\n",
      "Cluster 5:  0.1 0.44 0.06 0.4\n",
      "Cluster 6:  0.09 0.39 0.11 0.41\n",
      "Cluster 7:  0.17 0.39 0.16 0.28\n",
      "Cluster 8:  0.06 0.39 0.17 0.38\n",
      "Cluster 9:  0.11 0.33 0.37 0.2\n",
      "Cluster 10:  0.08 0.31 0.08 0.53\n",
      "Cluster 11:  0.12 0.4 0.21 0.27\n",
      "Cluster 12:  0.06 0.3 0.42 0.22\n",
      "Cluster 13:  0.07 0.41 0.22 0.31\n",
      "Cluster 14:  0.12 0.45 0.23 0.2\n",
      "Cluster 15:  0.11 0.27 0.09 0.53\n",
      "Cluster 16:  0.06 0.34 0.38 0.22\n",
      "Cluster 17:  0.08 0.38 0.11 0.43\n",
      "Cluster 18:  0.08 0.45 0.29 0.18\n",
      "Cluster 19:  0.0 0.38 0.44 0.18\n",
      "Cluster 20:  0.14 0.35 0.32 0.19\n",
      "Cluster 21:  0.03 0.4 0.24 0.33\n",
      "Cluster 22:  0.07 0.44 0.15 0.34\n",
      "Cluster 23:  0.11 0.34 0.17 0.38\n",
      "Cluster 24:  0.03 0.4 0.13 0.44\n"
     ]
    }
   ],
   "source": [
    "visualize_proportions(X_tr, Y_train, km, n)"
   ]
  },
  {
   "cell_type": "markdown",
   "metadata": {},
   "source": [
    "The KMean algorithm yields a reasonable accuracy especially after using the custom weights. After cross validating with different Train/Test sets, we can confidently say it is the best unsupervised learning method for the given dataset. It consistently outperforms KNearestNeighbours and a system of stacked autoencoders.\n",
    "\n",
    "Considering that we have the labels available for the data points, it is worth implementing some supervised learning techniques and see if they improve performance.\n",
    "\n",
    "We tried Logisitic Regression, DecisionTrees,  Perceptrons,  Multilevel Perceptrons and Neural Networks.\n",
    "\n",
    "We settled on Neural networks as they proved to be the best option. Since we were not able to use their full potential and flexibility from scikit learn, we decided to use another library. We opted for a custom neural network class using tensorflow. "
   ]
  },
  {
   "cell_type": "markdown",
   "metadata": {},
   "source": [
    "##  Custom neural network"
   ]
  },
  {
   "cell_type": "markdown",
   "metadata": {},
   "source": [
    "We have tried to keep the functionality of this class as close as possible to the scikitlearns native classes. \n",
    "- The nueral network object takes six parameters architecture: X_train / Y_train / X_test / Y_test / top. \n",
    "- The architecture is the list containing the sizes of the hidden layers. \n",
    "         - [100] would mean a neural network with a single hidden layer of 100 units. \n",
    "         - [ ] would mean a shallow network without any hidden layers.\n",
    "         - [100,100,100] would mean three hidden layers of a 100 units each. \n",
    "         - Only up to three hidden leayer can be implemented with this class.\n",
    "- The __\"top\"__ parameter takes an integer ranging from 1-4. Instead of only getting one answer we get a vector of the first (top) most likely answers in descending order and their confidence. The default value for this parameter is 1.\n",
    "        - If top=1, it returns the most likely answer. \n",
    "        - If top=2 it returns the two most likely answers with descending confidence. \n",
    "- The __\"fit\"__ function trains the neural network. It takes as parameters: learning_rate=0.1 , epochs=5000, alpha=0.01 and verbose=True. Alpha is the regularization multiple, the others are self explanatory. \n",
    "- The __\"get_error_stat\"__ function is a simple scoring function like the scikitlearn native score function.\n",
    "- The __\"predict\"__ function makes the prediction for a datapoint.\n",
    "- It is possible to pass the different __\"top\"__ parameter in all of the functions of the class mentioned above. If you choose not to, it will default to the __\"top\"__ parameter originally provided when the neural network object was created."
   ]
  },
  {
   "cell_type": "code",
   "execution_count": 228,
   "metadata": {},
   "outputs": [],
   "source": [
    "class nueral_net:\n",
    "    \n",
    "    def __init__(self, architecture, X_train, Y_train, X_test, Y_test, top=1):\n",
    "        tf.reset_default_graph()\n",
    "        self.X_train = X_train \n",
    "        self.Y_train = Y_train\n",
    "        self.X_test = X_test\n",
    "        self.Y_test = Y_test\n",
    "        self.top = top\n",
    "\n",
    "        self.m, self.inp = X_train.shape\n",
    "        _, self.output = Y_train.shape\n",
    "        self.architecture = architecture\n",
    "        self.layers = len(architecture)\n",
    "        \n",
    "        self.x = tf.placeholder(tf.float32, [None, self.inp], name = \"x\")\n",
    "        self.y = tf.placeholder(tf.float32, name = \"y\")\n",
    "            \n",
    "    def model(self,x):\n",
    "\n",
    "        try:\n",
    "            self.hidden_1 = {\"W\":tf.Variable(tf.random_normal([self.inp, self.architecture[0]]), name = \"w1\"),\n",
    "                             \"b\":tf.Variable(tf.random_normal([self.architecture[0]]), name = \"b1\")}\n",
    "            self.hidden_2 = {\"W\":tf.Variable(tf.random_normal([self.architecture[0], self.architecture[1]]), name = \"w2\"),\n",
    "                             \"b\":tf.Variable(tf.random_normal([self.architecture[1]]), name = \"b2\")}\n",
    "            self.hidden_3 = {\"W\":tf.Variable(tf.random_normal([self.architecture[1], self.architecture[2]]), name = \"w3\"),\n",
    "                             \"b\":tf.Variable(tf.random_normal([self.architecture[2]]), name = \"b3\")}\n",
    "        except: pass\n",
    "\n",
    "        try: self.out = {\"W\": tf.Variable(tf.random_normal([self.architecture[-1], self.output]), name=\"wout\"),\n",
    "                         \"b\": tf.Variable(tf.random_normal([self.output]), name=\"bout\")}\n",
    "        except: self.out = {\"W\": tf.Variable(tf.random_normal([self.inp, self.output]), name=\"wout\"),\n",
    "                         \"b\": tf.Variable(tf.random_normal([self.output]), name=\"bout\")}\n",
    "\n",
    "        if (self.layers >= 1):\n",
    "            l = tf.add(tf.matmul(x, self.hidden_1[\"W\"]), self.hidden_1[\"b\"])\n",
    "            l = tf.nn.tanh(l)\n",
    "\n",
    "            if (self.layers >= 2):\n",
    "                l = tf.add(tf.matmul(l, self.hidden_2[\"W\"]), self.hidden_2[\"b\"])\n",
    "                l = tf.nn.tanh(l)\n",
    "\n",
    "                if (self.layers >= 3):\n",
    "                    l = tf.add(tf.matmul(l, self.hidden_3[\"W\"]), self.hidden_3[\"b\"])\n",
    "                    l = tf.nn.tanh(l)\n",
    "\n",
    "        if (self.layers >= 1): l = tf.add(tf.matmul(l, self.out[\"W\"]), self.out[\"b\"])\n",
    "        else: l = tf.add(tf.matmul(x, self.out[\"W\"]), self.out[\"b\"])\n",
    "\n",
    "        out = tf.nn.sigmoid(l)\n",
    "\n",
    "        return out\n",
    "    \n",
    "    def fit(self, learning_rate=0.1 , epochs=5000, alpha=0.001, verbose=True):\n",
    "        self.predictions = self.model(self.x)\n",
    "\n",
    "        regularization = tf.norm(self.out[\"W\"])+tf.norm(self.out[\"b\"])\n",
    "        if (self.layers >= 1): regularization = regularization + tf.norm(self.hidden_1[\"W\"]) + tf.norm(self.hidden_1[\"b\"])\n",
    "        if (self.layers >= 2): regularization = regularization + tf.norm(self.hidden_2[\"W\"]) + tf.norm(self.hidden_2[\"b\"])\n",
    "        if (self.layers >= 3): regularization = regularization + tf.norm(self.hidden_3[\"W\"]) + tf.norm(self.hidden_3[\"b\"])\n",
    "   \n",
    "        cost = tf.reduce_mean(tf.nn.softmax_cross_entropy_with_logits_v2(logits = self.predictions, labels = self.y )) + alpha*regularization\n",
    "        optimizer = tf.train.AdamOptimizer(learning_rate).minimize(cost)  #learning_rate\n",
    "        \n",
    "        self.sess =  tf.Session()\n",
    "        self.sess.run(tf.global_variables_initializer())\n",
    "        \n",
    "        train_accs = []\n",
    "        test_accs =  []\n",
    "        loss = []\n",
    "        \n",
    "        for epoch in range(epochs+1):\n",
    "            _ , c = self.sess.run([optimizer, cost], feed_dict={self.x:self.X_train, self.y:self.Y_train})\n",
    "\n",
    "            if(epoch%100==0 and verbose):\n",
    "                print(\"Epoch:\",epoch,\"  Cost:\",c, end= \"  \")\n",
    "                print(\"Train: \",self.get_error_stats(self.X_train, self.Y_train), end= \"  \")\n",
    "                print(\"Test: \", self.get_error_stats(self.X_test, self.Y_test))\n",
    "            if(epoch>100 and self.get_error_stats(self.X_test, self.Y_test)>0.41 and self.get_error_stats(self.X_test, self.Y_test)<self.get_error_stats(self.X_train, self.Y_train)): \n",
    "                print(\"Epoch:\",epoch,\"  Cost:\",c, end= \"  \")\n",
    "                print(\"Train: \",self.get_error_stats(self.X_train, self.Y_train), end= \"  \")\n",
    "                print(\"Test: \", self.get_error_stats(self.X_test, self.Y_test))\n",
    "                break\n",
    "            \n",
    "            train_accs.append(self.get_error_stats(self.X_train, self.Y_train))\n",
    "            test_accs.append(self.get_error_stats(self.X_test, self.Y_test))\n",
    "            loss.append(c)\n",
    "        \n",
    "        plt.plot(train_accs, label = \"train\")\n",
    "        plt.plot(test_accs, label = \"test\")\n",
    "        plt.legend()\n",
    "        plt.show()\n",
    "        plt.plot(loss, label = \"loss\")\n",
    "        plt.legend()\n",
    "                             \n",
    "        return self\n",
    "    \n",
    "    def get_error_stats(self, X, Y, top=None):\n",
    "        [P] = self.sess.run([self.predictions], feed_dict={self.x: X})\n",
    "        P = np.fliplr(np.argsort(P, axis=1))\n",
    "        Y = np.argmax(Y, axis=1).ravel()\n",
    "\n",
    "        if(top==None): top = self.top\n",
    "        correct = np.equal(P[:,0],Y)\n",
    "        if (top>=2): correct = np.logical_or(correct, np.equal(P[:,1], Y))\n",
    "        if (top>=3): correct = np.logical_or(correct, np.equal(P[:,2], Y))\n",
    "        if (top>=4): correct = np.logical_or(correct, np.equal(P[:,3], Y))\n",
    "\n",
    "        acc = np.mean(correct)\n",
    "        acc = round(acc, 2)\n",
    "\n",
    "        return acc\n",
    "\n",
    "    def predict(self, X, top = None):\n",
    "        if(top == None): top = self.top\n",
    "        [P] = self.sess.run([self.predictions], feed_dict={self.x: X})\n",
    "        P = P.reshape((X.shape[0], 4))\n",
    "        args = np.fliplr(np.argsort(P, axis=1)).reshape(P.shape)\n",
    "        #args = np.argmax(P, axis=1)\n",
    "        for i in range(len(P)):\n",
    "            P[i] = P[i][args[i]]\n",
    "\n",
    "        args, P = args[:,0:top], P[:,0:top]\n",
    "\n",
    "        return args, P\n"
   ]
  },
  {
   "cell_type": "markdown",
   "metadata": {},
   "source": [
    "The neural network is much more sensitive to imbalanced classes compared to the clustering algorithms explained above. \n",
    "\n",
    "It is a good idea to balance the classes using the __\"balance\"__ function defined earlier. The target we chose is 450, 650, 600, 600"
   ]
  },
  {
   "cell_type": "code",
   "execution_count": 229,
   "metadata": {
    "scrolled": true
   },
   "outputs": [
    {
     "name": "stdout",
     "output_type": "stream",
     "text": [
      "UNBALANCED DATASET: {1: 630, 0: 144, 3: 561, 2: 387}\n",
      "Prop: [144, 630, 387, 561]\n",
      "Aim:  [450, 650, 600, 600]\n",
      "BALANCED DATASET: {0: 450, 1: 650, 2: 600, 3: 600} \n",
      "\n"
     ]
    }
   ],
   "source": [
    "X_tr, Y_tr = balance(X_train,Y_train, aim=[450, 650, 600 ,600 ])"
   ]
  },
  {
   "cell_type": "markdown",
   "metadata": {},
   "source": [
    "It is worth noting that the neural network works with the one hot representaion of the Ys. <br> \n",
    "We convert the single valued Ys into one hot representations with the function defined earlier. "
   ]
  },
  {
   "cell_type": "code",
   "execution_count": 230,
   "metadata": {},
   "outputs": [],
   "source": [
    "Y_tr = single_to_onehot(Y_tr)\n",
    "Y_te = single_to_onehot(Y_test)"
   ]
  },
  {
   "cell_type": "markdown",
   "metadata": {},
   "source": [
    "We make a neural network with one hidden layer. The network has the following features\n",
    "- 100 units in the hidden layer.\n",
    "- The activation function used is __tanh__ for the hidden layer and __sigmoid__ for the output layer.\n",
    "- Alpha, the regularization multiple, is set to 0.001.\n",
    "- The learning rate is set to 0.1\n",
    "- The optimizing algorithm used is __Adam__.\n",
    "- The cost function used is the __Softmax Cross Entropy__"
   ]
  },
  {
   "cell_type": "markdown",
   "metadata": {},
   "source": [
    "## Train  /  Test  /  Loss Function"
   ]
  },
  {
   "cell_type": "markdown",
   "metadata": {},
   "source": [
    "In the following section we plotted the training and testing accuracy, along with the loss function. "
   ]
  },
  {
   "cell_type": "code",
   "execution_count": 231,
   "metadata": {},
   "outputs": [
    {
     "name": "stdout",
     "output_type": "stream",
     "text": [
      "Epoch: 0   Cost: 1.5343093  Train:  0.3  Test:  0.4\n",
      "Epoch: 100   Cost: 1.1919829  Train:  0.57  Test:  0.39\n",
      "Epoch: 113   Cost: 1.1813265  Train:  0.59  Test:  0.42\n"
     ]
    },
    {
     "data": {
      "image/png": "[encoded data removed]",
      "text/plain": [
       "<matplotlib.figure.Figure at 0x1ba4160e898>"
      ]
     },
     "metadata": {},
     "output_type": "display_data"
    },
    {
     "name": "stdout",
     "output_type": "stream",
     "text": [
      "---------------------------\n",
      "      Correct Answer      \n",
      "    0     1     2     3   \n",
      "---------------------------\n",
      "[[0.37 0.02 0.03 0.02]\n",
      " [0.2  0.66 0.18 0.23]\n",
      " [0.08 0.11 0.63 0.11]\n",
      " [0.16 0.22 0.14 0.62]]\n",
      "---------------------------\n",
      "Correctly Guessed: [0.37, 0.66, 0.63, 0.62]\n",
      "Guessed Propotion: [0.088 0.363 0.246 0.301]\n",
      "Actual Propotion:  [0.195 0.282 0.26  0.26 ]\n",
      "Overall Accuracy: 0.5891\n",
      "\n",
      "\n",
      "---------------------------\n",
      "      Correct Answer      \n",
      "    0     1     2     3   \n",
      "---------------------------\n",
      "[[0.   0.45 0.18 0.  ]\n",
      " [0.06 0.48 0.28 0.32]\n",
      " [0.11 0.3  0.3  0.16]\n",
      " [0.01 0.33 0.09 0.48]]\n",
      "---------------------------\n",
      "Correctly Guessed: [0.0, 0.48, 0.3, 0.48]\n",
      "Guessed Propotion: [0.036 0.463 0.197 0.302]\n",
      "Actual Propotion:  [0.057 0.395 0.223 0.322]\n",
      "Overall Accuracy: 0.4166\n",
      "\n",
      "\n"
     ]
    },
    {
     "data": {
      "text/plain": [
       "0.4166"
      ]
     },
     "execution_count": 231,
     "metadata": {},
     "output_type": "execute_result"
    },
    {
     "data": {
      "image/png": "[encoded data removed]",
      "text/plain": [
       "<matplotlib.figure.Figure at 0x1ba41460978>"
      ]
     },
     "metadata": {},
     "output_type": "display_data"
    }
   ],
   "source": [
    "architecture = [100]\n",
    "nn = nueral_net(architecture, X_tr, Y_tr, X_test, Y_te, top=1)\n",
    "nn.fit(learning_rate=0.1 , epochs=10000, alpha=0.001, verbose=True)\n",
    "\n",
    "P, prop = nn.predict(X_tr)\n",
    "get_error_stats(P, onehot_to_single(Y_tr))\n",
    "P, prop = nn.predict(X_test)\n",
    "get_error_stats(P, onehot_to_single(Y_te))\n"
   ]
  },
  {
   "cell_type": "markdown",
   "metadata": {},
   "source": [
    "We are also able to get more than one answer and their corresponding confidence. In the following box, we demonstrate how to get the top 1, 2 and 4 (all answers) for 1 users of the training set."
   ]
  },
  {
   "cell_type": "markdown",
   "metadata": {},
   "source": [
    "TOP 1 Category"
   ]
  },
  {
   "cell_type": "code",
   "execution_count": 232,
   "metadata": {},
   "outputs": [
    {
     "name": "stdout",
     "output_type": "stream",
     "text": [
      "[[1]]\n",
      "[[0.03235121]]\n"
     ]
    }
   ],
   "source": [
    "P, prop = nn.predict(X_tr[0:1], top=1)\n",
    "print(P)\n",
    "print(prop)"
   ]
  },
  {
   "cell_type": "markdown",
   "metadata": {},
   "source": [
    "TOP 2 Categories"
   ]
  },
  {
   "cell_type": "code",
   "execution_count": 236,
   "metadata": {},
   "outputs": [
    {
     "name": "stdout",
     "output_type": "stream",
     "text": [
      "[[0 1]]\n",
      "[[0.99852693 0.00195447]]\n"
     ]
    }
   ],
   "source": [
    "P, prop = nn.predict(X_tr[0:1], top=2)\n",
    "print(P)\n",
    "print(prop)"
   ]
  },
  {
   "cell_type": "markdown",
   "metadata": {},
   "source": [
    "TOP 4 Categories"
   ]
  },
  {
   "cell_type": "code",
   "execution_count": 1,
   "metadata": {},
   "outputs": [
    {
     "ename": "NameError",
     "evalue": "name 'nn' is not defined",
     "output_type": "error",
     "traceback": [
      "\u001b[1;31m---------------------------------------------------------------------------\u001b[0m",
      "\u001b[1;31mNameError\u001b[0m                                 Traceback (most recent call last)",
      "\u001b[1;32m<ipython-input-1-95a6c6903f23>\u001b[0m in \u001b[0;36m<module>\u001b[1;34m()\u001b[0m\n\u001b[1;32m----> 1\u001b[1;33m \u001b[0mP\u001b[0m\u001b[1;33m,\u001b[0m \u001b[0mprop\u001b[0m \u001b[1;33m=\u001b[0m \u001b[0mnn\u001b[0m\u001b[1;33m.\u001b[0m\u001b[0mpredict\u001b[0m\u001b[1;33m(\u001b[0m\u001b[0mX_tr\u001b[0m\u001b[1;33m[\u001b[0m\u001b[1;36m0\u001b[0m\u001b[1;33m:\u001b[0m\u001b[1;36m1\u001b[0m\u001b[1;33m]\u001b[0m\u001b[1;33m,\u001b[0m \u001b[0mtop\u001b[0m\u001b[1;33m=\u001b[0m\u001b[1;36m4\u001b[0m\u001b[1;33m)\u001b[0m\u001b[1;33m\u001b[0m\u001b[0m\n\u001b[0m\u001b[0;32m      2\u001b[0m \u001b[0mprint\u001b[0m\u001b[1;33m(\u001b[0m\u001b[0mP\u001b[0m\u001b[1;33m)\u001b[0m\u001b[1;33m\u001b[0m\u001b[0m\n\u001b[0;32m      3\u001b[0m \u001b[0mprint\u001b[0m\u001b[1;33m(\u001b[0m\u001b[0mprop\u001b[0m\u001b[1;33m)\u001b[0m\u001b[1;33m\u001b[0m\u001b[0m\n",
      "\u001b[1;31mNameError\u001b[0m: name 'nn' is not defined"
     ]
    }
   ],
   "source": [
    "P, prop = nn.predict(X_tr[0:1], top=4)\n",
    "print(P)\n",
    "print(prop)"
   ]
  },
  {
   "cell_type": "markdown",
   "metadata": {},
   "source": [
    "Let us provide a concrete example.\n",
    "\n",
    "Suppose you have 100 dollars to spend on 1 user for advertising, you could use the confidence levels we provided in the above output to allocate the correct proportions for each category. "
   ]
  },
  {
   "cell_type": "markdown",
   "metadata": {},
   "source": [
    "Another thing worth remembering is the possibility to add a flexible \"aim\" in the balancing function. <br>\n",
    "A change in proportions translates into a change in the final answers. By doing so we can control the categories that the algorithm is biased towards. <br>\n",
    "In our experience aim=[450, 650, 600 ,600] is best for unbiasedness. \n",
    "\n",
    "However we might want to lean towards one category rather than another. (That is, we would prefer making an error in favour of one category rather than another. We would sacrifice a bit of accuracy in order to make sure we didn't miss the desired category). \n",
    "\n",
    "For example, if category 0 is much more lucrative for Vodafone and they want a bias towards this category, \"aim\" would be changed to [750, 650, 600 ,600]. We set the number of examples of category 0 starting from 450 (unbiased case) up to 750."
   ]
  },
  {
   "cell_type": "code",
   "execution_count": 235,
   "metadata": {},
   "outputs": [
    {
     "name": "stdout",
     "output_type": "stream",
     "text": [
      "UNBALANCED DATASET: {1: 630, 0: 144, 3: 561, 2: 387}\n",
      "Prop: [144, 630, 387, 561]\n",
      "Aim:  [750, 650, 600, 600]\n",
      "BALANCED DATASET: {0: 750, 1: 650, 2: 600, 3: 600} \n",
      "\n",
      "Epoch: 0   Cost: 1.5973253  Train:  0.25  Test:  0.27\n",
      "Epoch: 100   Cost: 1.2225163  Train:  0.45  Test:  0.38\n",
      "Epoch: 121   Cost: 1.1956509  Train:  0.5  Test:  0.42\n"
     ]
    },
    {
     "data": {
      "image/png": "[encoded data removed]",
      "text/plain": [
       "<matplotlib.figure.Figure at 0x1ba41973e48>"
      ]
     },
     "metadata": {},
     "output_type": "display_data"
    },
    {
     "name": "stdout",
     "output_type": "stream",
     "text": [
      "---------------------------\n",
      "      Correct Answer      \n",
      "    0     1     2     3   \n",
      "---------------------------\n",
      "[[0.49 0.05 0.08 0.06]\n",
      " [0.2  0.58 0.32 0.26]\n",
      " [0.16 0.15 0.38 0.11]\n",
      " [0.23 0.22 0.16 0.51]]\n",
      "---------------------------\n",
      "Correctly Guessed: [0.49, 0.57, 0.38, 0.51]\n",
      "Guessed Propotion: [0.205 0.343 0.189 0.261]\n",
      "Actual Propotion:  [0.288 0.25  0.23  0.23 ]\n",
      "Overall Accuracy: 0.4965\n",
      "\n",
      "\n",
      "---------------------------\n",
      "      Correct Answer      \n",
      "    0     1     2     3   \n",
      "---------------------------\n",
      "[[0.27 0.81 0.63 0.27]\n",
      " [0.06 0.48 0.22 0.34]\n",
      " [0.04 0.2  0.27 0.11]\n",
      " [0.01 0.33 0.11 0.45]]\n",
      "---------------------------\n",
      "Correctly Guessed: [0.27, 0.48, 0.27, 0.45]\n",
      "Guessed Propotion: [0.114 0.442 0.145 0.296]\n",
      "Actual Propotion:  [0.057 0.395 0.223 0.322]\n",
      "Overall Accuracy: 0.4166\n",
      "\n",
      "\n"
     ]
    },
    {
     "data": {
      "text/plain": [
       "0.4166"
      ]
     },
     "execution_count": 235,
     "metadata": {},
     "output_type": "execute_result"
    },
    {
     "data": {
      "image/png": "[encoded data removed]",
      "text/plain": [
       "<matplotlib.figure.Figure at 0x1ba43136fd0>"
      ]
     },
     "metadata": {},
     "output_type": "display_data"
    }
   ],
   "source": [
    "X_tr, Y_tr = balance(X_train,Y_train, aim=[750, 650, 600 ,600 ])\n",
    "\n",
    "Y_tr = single_to_onehot(Y_tr)\n",
    "Y_te = single_to_onehot(Y_test)\n",
    "\n",
    "architecture = [100]\n",
    "nn = nueral_net(architecture, X_tr, Y_tr, X_test, Y_te, top=1)\n",
    "nn.fit(learning_rate=0.1 , epochs=10000, alpha=0.001, verbose=True)\n",
    "\n",
    "P, prop = nn.predict(X_tr)\n",
    "get_error_stats(P, onehot_to_single(Y_tr))\n",
    "P, prop = nn.predict(X_test)\n",
    "get_error_stats(P, onehot_to_single(Y_te))\n"
   ]
  },
  {
   "cell_type": "markdown",
   "metadata": {},
   "source": [
    "The overall accuracy may be impacted. However, the specific accuracy and guessed proportion for category 0 increases. This way, the false negatives for category 0 decrease. <br>\n",
    "On the other hand the false positives increase. Therefore, there is a tradeoff. <br>\n",
    "Since the overall accuracy seems to be relatively low, around 42-44%, the effect of this feature tends to be volatile. \n",
    "Because the desired effect might not be easily achieved, this feature should be used with caution."
   ]
  },
  {
   "cell_type": "markdown",
   "metadata": {},
   "source": [
    "# CONLUSION"
   ]
  },
  {
   "cell_type": "markdown",
   "metadata": {},
   "source": [
    "To conclude our analysis, by experimenting both Neural Networks and Kmeans, we found out that kmeans yielded a good level of accuracy compared to other unsupervised methods, especially after implementing it with custom weights. <br>\n",
    "Given the fact that we were given labeled data, we used Neural networks as a supervised method. This gave us the best accuracy, and was also able to explain additional aspects of the data. <br>\n",
    "We must say that in absolute terms, the achieved accuracy is low. Therefore the main takaways of our analysis need to be taken with caution. <br>\n",
    "\n",
    "We are certain that the 4 products are mostly sold in the major Italian cities (Milan, Turin, Rome, Naples). <br>\n",
    "Moreover we can confidently say that the products are more successful in the northern part of the country. It might be because there are more people living in this area or that they are more appealing to them. <br>\n",
    "Hence for marketing purposes, targeting these 4 cities and the northen part of Italy makes sense because they are more responsive markets. <br>\n",
    "\n",
    "Furthermore, marketing campaigns for the south of Italy should be designed in a different manner, the population needs to feel more involved and represented. Consequently they might be willing to try out the product, because given the data, we noticed fewer purchases in this geographical area. <br>\n",
    "\n",
    "Additionally our insights from the clustering could be improved by using a larger and especially detailed dataset with characterstics such as criminality rates of where the clients live (they might be willing to try V-Auto or V-Camera), whether clients own a pet or not (for V-pet), what their hobbies and passions are. This would give a clear overview of the client's personality and the products that he might need."
   ]
  }
 ],
 "metadata": {
  "kernelspec": {
   "display_name": "Python 3",
   "language": "python",
   "name": "python3"
  },
  "language_info": {
   "codemirror_mode": {
    "name": "ipython",
    "version": 3
   },
   "file_extension": ".py",
   "mimetype": "text/x-python",
   "name": "python",
   "nbconvert_exporter": "python",
   "pygments_lexer": "ipython3",
   "version": "3.6.4"
  }
 },
 "nbformat": 4,
 "nbformat_minor": 2
}
